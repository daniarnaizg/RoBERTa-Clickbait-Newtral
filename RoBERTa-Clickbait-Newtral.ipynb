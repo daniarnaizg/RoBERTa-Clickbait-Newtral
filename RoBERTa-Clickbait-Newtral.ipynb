{
  "nbformat": 4,
  "nbformat_minor": 0,
  "metadata": {
    "colab": {
      "name": "Prueba Newtral - FINAL",
      "provenance": [],
      "collapsed_sections": []
    },
    "kernelspec": {
      "name": "python3",
      "display_name": "Python 3"
    },
    "language_info": {
      "name": "python"
    },
    "widgets": {
      "application/vnd.jupyter.widget-state+json": {
        "d76565d60b3e45fe9b2503677e59a18c": {
          "model_module": "@jupyter-widgets/controls",
          "model_name": "HBoxModel",
          "model_module_version": "1.5.0",
          "state": {
            "_dom_classes": [],
            "_model_module": "@jupyter-widgets/controls",
            "_model_module_version": "1.5.0",
            "_model_name": "HBoxModel",
            "_view_count": null,
            "_view_module": "@jupyter-widgets/controls",
            "_view_module_version": "1.5.0",
            "_view_name": "HBoxView",
            "box_style": "",
            "children": [
              "IPY_MODEL_b0a2e6c864914f5bb62a374dcce6f6e5",
              "IPY_MODEL_11664197122e426bb0e6056e99f732e7",
              "IPY_MODEL_e316449d43b04f8a8a8ac4a5250ec8a8"
            ],
            "layout": "IPY_MODEL_ddf5bf3f1be34330b39d2ae8396eb5cc"
          }
        },
        "b0a2e6c864914f5bb62a374dcce6f6e5": {
          "model_module": "@jupyter-widgets/controls",
          "model_name": "HTMLModel",
          "model_module_version": "1.5.0",
          "state": {
            "_dom_classes": [],
            "_model_module": "@jupyter-widgets/controls",
            "_model_module_version": "1.5.0",
            "_model_name": "HTMLModel",
            "_view_count": null,
            "_view_module": "@jupyter-widgets/controls",
            "_view_module_version": "1.5.0",
            "_view_name": "HTMLView",
            "description": "",
            "description_tooltip": null,
            "layout": "IPY_MODEL_32fbc091a05b474d97c6c42a5c242e8e",
            "placeholder": "​",
            "style": "IPY_MODEL_3b8ffd5483b84043b8f372e71850dbe4",
            "value": "Downloading: 100%"
          }
        },
        "11664197122e426bb0e6056e99f732e7": {
          "model_module": "@jupyter-widgets/controls",
          "model_name": "FloatProgressModel",
          "model_module_version": "1.5.0",
          "state": {
            "_dom_classes": [],
            "_model_module": "@jupyter-widgets/controls",
            "_model_module_version": "1.5.0",
            "_model_name": "FloatProgressModel",
            "_view_count": null,
            "_view_module": "@jupyter-widgets/controls",
            "_view_module_version": "1.5.0",
            "_view_name": "ProgressView",
            "bar_style": "success",
            "description": "",
            "description_tooltip": null,
            "layout": "IPY_MODEL_6ab5870aa60d4fcf9e338f3f81e2b8fd",
            "max": 481,
            "min": 0,
            "orientation": "horizontal",
            "style": "IPY_MODEL_bf767e40c0044e3d9badf70bfa81ffca",
            "value": 481
          }
        },
        "e316449d43b04f8a8a8ac4a5250ec8a8": {
          "model_module": "@jupyter-widgets/controls",
          "model_name": "HTMLModel",
          "model_module_version": "1.5.0",
          "state": {
            "_dom_classes": [],
            "_model_module": "@jupyter-widgets/controls",
            "_model_module_version": "1.5.0",
            "_model_name": "HTMLModel",
            "_view_count": null,
            "_view_module": "@jupyter-widgets/controls",
            "_view_module_version": "1.5.0",
            "_view_name": "HTMLView",
            "description": "",
            "description_tooltip": null,
            "layout": "IPY_MODEL_260982b95a3743dfa89921645d27a109",
            "placeholder": "​",
            "style": "IPY_MODEL_9f00d646ff5144618a434c18a9d6bee7",
            "value": " 481/481 [00:00&lt;00:00, 14.8kB/s]"
          }
        },
        "ddf5bf3f1be34330b39d2ae8396eb5cc": {
          "model_module": "@jupyter-widgets/base",
          "model_name": "LayoutModel",
          "model_module_version": "1.2.0",
          "state": {
            "_model_module": "@jupyter-widgets/base",
            "_model_module_version": "1.2.0",
            "_model_name": "LayoutModel",
            "_view_count": null,
            "_view_module": "@jupyter-widgets/base",
            "_view_module_version": "1.2.0",
            "_view_name": "LayoutView",
            "align_content": null,
            "align_items": null,
            "align_self": null,
            "border": null,
            "bottom": null,
            "display": null,
            "flex": null,
            "flex_flow": null,
            "grid_area": null,
            "grid_auto_columns": null,
            "grid_auto_flow": null,
            "grid_auto_rows": null,
            "grid_column": null,
            "grid_gap": null,
            "grid_row": null,
            "grid_template_areas": null,
            "grid_template_columns": null,
            "grid_template_rows": null,
            "height": null,
            "justify_content": null,
            "justify_items": null,
            "left": null,
            "margin": null,
            "max_height": null,
            "max_width": null,
            "min_height": null,
            "min_width": null,
            "object_fit": null,
            "object_position": null,
            "order": null,
            "overflow": null,
            "overflow_x": null,
            "overflow_y": null,
            "padding": null,
            "right": null,
            "top": null,
            "visibility": null,
            "width": null
          }
        },
        "32fbc091a05b474d97c6c42a5c242e8e": {
          "model_module": "@jupyter-widgets/base",
          "model_name": "LayoutModel",
          "model_module_version": "1.2.0",
          "state": {
            "_model_module": "@jupyter-widgets/base",
            "_model_module_version": "1.2.0",
            "_model_name": "LayoutModel",
            "_view_count": null,
            "_view_module": "@jupyter-widgets/base",
            "_view_module_version": "1.2.0",
            "_view_name": "LayoutView",
            "align_content": null,
            "align_items": null,
            "align_self": null,
            "border": null,
            "bottom": null,
            "display": null,
            "flex": null,
            "flex_flow": null,
            "grid_area": null,
            "grid_auto_columns": null,
            "grid_auto_flow": null,
            "grid_auto_rows": null,
            "grid_column": null,
            "grid_gap": null,
            "grid_row": null,
            "grid_template_areas": null,
            "grid_template_columns": null,
            "grid_template_rows": null,
            "height": null,
            "justify_content": null,
            "justify_items": null,
            "left": null,
            "margin": null,
            "max_height": null,
            "max_width": null,
            "min_height": null,
            "min_width": null,
            "object_fit": null,
            "object_position": null,
            "order": null,
            "overflow": null,
            "overflow_x": null,
            "overflow_y": null,
            "padding": null,
            "right": null,
            "top": null,
            "visibility": null,
            "width": null
          }
        },
        "3b8ffd5483b84043b8f372e71850dbe4": {
          "model_module": "@jupyter-widgets/controls",
          "model_name": "DescriptionStyleModel",
          "model_module_version": "1.5.0",
          "state": {
            "_model_module": "@jupyter-widgets/controls",
            "_model_module_version": "1.5.0",
            "_model_name": "DescriptionStyleModel",
            "_view_count": null,
            "_view_module": "@jupyter-widgets/base",
            "_view_module_version": "1.2.0",
            "_view_name": "StyleView",
            "description_width": ""
          }
        },
        "6ab5870aa60d4fcf9e338f3f81e2b8fd": {
          "model_module": "@jupyter-widgets/base",
          "model_name": "LayoutModel",
          "model_module_version": "1.2.0",
          "state": {
            "_model_module": "@jupyter-widgets/base",
            "_model_module_version": "1.2.0",
            "_model_name": "LayoutModel",
            "_view_count": null,
            "_view_module": "@jupyter-widgets/base",
            "_view_module_version": "1.2.0",
            "_view_name": "LayoutView",
            "align_content": null,
            "align_items": null,
            "align_self": null,
            "border": null,
            "bottom": null,
            "display": null,
            "flex": null,
            "flex_flow": null,
            "grid_area": null,
            "grid_auto_columns": null,
            "grid_auto_flow": null,
            "grid_auto_rows": null,
            "grid_column": null,
            "grid_gap": null,
            "grid_row": null,
            "grid_template_areas": null,
            "grid_template_columns": null,
            "grid_template_rows": null,
            "height": null,
            "justify_content": null,
            "justify_items": null,
            "left": null,
            "margin": null,
            "max_height": null,
            "max_width": null,
            "min_height": null,
            "min_width": null,
            "object_fit": null,
            "object_position": null,
            "order": null,
            "overflow": null,
            "overflow_x": null,
            "overflow_y": null,
            "padding": null,
            "right": null,
            "top": null,
            "visibility": null,
            "width": null
          }
        },
        "bf767e40c0044e3d9badf70bfa81ffca": {
          "model_module": "@jupyter-widgets/controls",
          "model_name": "ProgressStyleModel",
          "model_module_version": "1.5.0",
          "state": {
            "_model_module": "@jupyter-widgets/controls",
            "_model_module_version": "1.5.0",
            "_model_name": "ProgressStyleModel",
            "_view_count": null,
            "_view_module": "@jupyter-widgets/base",
            "_view_module_version": "1.2.0",
            "_view_name": "StyleView",
            "bar_color": null,
            "description_width": ""
          }
        },
        "260982b95a3743dfa89921645d27a109": {
          "model_module": "@jupyter-widgets/base",
          "model_name": "LayoutModel",
          "model_module_version": "1.2.0",
          "state": {
            "_model_module": "@jupyter-widgets/base",
            "_model_module_version": "1.2.0",
            "_model_name": "LayoutModel",
            "_view_count": null,
            "_view_module": "@jupyter-widgets/base",
            "_view_module_version": "1.2.0",
            "_view_name": "LayoutView",
            "align_content": null,
            "align_items": null,
            "align_self": null,
            "border": null,
            "bottom": null,
            "display": null,
            "flex": null,
            "flex_flow": null,
            "grid_area": null,
            "grid_auto_columns": null,
            "grid_auto_flow": null,
            "grid_auto_rows": null,
            "grid_column": null,
            "grid_gap": null,
            "grid_row": null,
            "grid_template_areas": null,
            "grid_template_columns": null,
            "grid_template_rows": null,
            "height": null,
            "justify_content": null,
            "justify_items": null,
            "left": null,
            "margin": null,
            "max_height": null,
            "max_width": null,
            "min_height": null,
            "min_width": null,
            "object_fit": null,
            "object_position": null,
            "order": null,
            "overflow": null,
            "overflow_x": null,
            "overflow_y": null,
            "padding": null,
            "right": null,
            "top": null,
            "visibility": null,
            "width": null
          }
        },
        "9f00d646ff5144618a434c18a9d6bee7": {
          "model_module": "@jupyter-widgets/controls",
          "model_name": "DescriptionStyleModel",
          "model_module_version": "1.5.0",
          "state": {
            "_model_module": "@jupyter-widgets/controls",
            "_model_module_version": "1.5.0",
            "_model_name": "DescriptionStyleModel",
            "_view_count": null,
            "_view_module": "@jupyter-widgets/base",
            "_view_module_version": "1.2.0",
            "_view_name": "StyleView",
            "description_width": ""
          }
        },
        "8c9e870fbd5e4f95a6c318db292d14d2": {
          "model_module": "@jupyter-widgets/controls",
          "model_name": "HBoxModel",
          "model_module_version": "1.5.0",
          "state": {
            "_dom_classes": [],
            "_model_module": "@jupyter-widgets/controls",
            "_model_module_version": "1.5.0",
            "_model_name": "HBoxModel",
            "_view_count": null,
            "_view_module": "@jupyter-widgets/controls",
            "_view_module_version": "1.5.0",
            "_view_name": "HBoxView",
            "box_style": "",
            "children": [
              "IPY_MODEL_303f4755ad8b4aac895a483b11657dd5",
              "IPY_MODEL_f10716eeb7fb4d0fa90598a62f077097",
              "IPY_MODEL_0303a3d3733f403ea3129dd897ef2922"
            ],
            "layout": "IPY_MODEL_c29873d406d44f2f91b996a7f8176ff1"
          }
        },
        "303f4755ad8b4aac895a483b11657dd5": {
          "model_module": "@jupyter-widgets/controls",
          "model_name": "HTMLModel",
          "model_module_version": "1.5.0",
          "state": {
            "_dom_classes": [],
            "_model_module": "@jupyter-widgets/controls",
            "_model_module_version": "1.5.0",
            "_model_name": "HTMLModel",
            "_view_count": null,
            "_view_module": "@jupyter-widgets/controls",
            "_view_module_version": "1.5.0",
            "_view_name": "HTMLView",
            "description": "",
            "description_tooltip": null,
            "layout": "IPY_MODEL_199685d4d83942988d0f420ae56d654b",
            "placeholder": "​",
            "style": "IPY_MODEL_754e2480e3bc4b7cae682292f0f6a4dd",
            "value": "Downloading: 100%"
          }
        },
        "f10716eeb7fb4d0fa90598a62f077097": {
          "model_module": "@jupyter-widgets/controls",
          "model_name": "FloatProgressModel",
          "model_module_version": "1.5.0",
          "state": {
            "_dom_classes": [],
            "_model_module": "@jupyter-widgets/controls",
            "_model_module_version": "1.5.0",
            "_model_name": "FloatProgressModel",
            "_view_count": null,
            "_view_module": "@jupyter-widgets/controls",
            "_view_module_version": "1.5.0",
            "_view_name": "ProgressView",
            "bar_style": "success",
            "description": "",
            "description_tooltip": null,
            "layout": "IPY_MODEL_9899f600eddf41e49a7d85d4dda66dfe",
            "max": 501200538,
            "min": 0,
            "orientation": "horizontal",
            "style": "IPY_MODEL_11346078fe5c4d1f8e36a7e438140f39",
            "value": 501200538
          }
        },
        "0303a3d3733f403ea3129dd897ef2922": {
          "model_module": "@jupyter-widgets/controls",
          "model_name": "HTMLModel",
          "model_module_version": "1.5.0",
          "state": {
            "_dom_classes": [],
            "_model_module": "@jupyter-widgets/controls",
            "_model_module_version": "1.5.0",
            "_model_name": "HTMLModel",
            "_view_count": null,
            "_view_module": "@jupyter-widgets/controls",
            "_view_module_version": "1.5.0",
            "_view_name": "HTMLView",
            "description": "",
            "description_tooltip": null,
            "layout": "IPY_MODEL_c8300c0540e74491b1863b3922c07bf0",
            "placeholder": "​",
            "style": "IPY_MODEL_afea2156b5c1468aad05e72fc16031ca",
            "value": " 478M/478M [00:20&lt;00:00, 23.9MB/s]"
          }
        },
        "c29873d406d44f2f91b996a7f8176ff1": {
          "model_module": "@jupyter-widgets/base",
          "model_name": "LayoutModel",
          "model_module_version": "1.2.0",
          "state": {
            "_model_module": "@jupyter-widgets/base",
            "_model_module_version": "1.2.0",
            "_model_name": "LayoutModel",
            "_view_count": null,
            "_view_module": "@jupyter-widgets/base",
            "_view_module_version": "1.2.0",
            "_view_name": "LayoutView",
            "align_content": null,
            "align_items": null,
            "align_self": null,
            "border": null,
            "bottom": null,
            "display": null,
            "flex": null,
            "flex_flow": null,
            "grid_area": null,
            "grid_auto_columns": null,
            "grid_auto_flow": null,
            "grid_auto_rows": null,
            "grid_column": null,
            "grid_gap": null,
            "grid_row": null,
            "grid_template_areas": null,
            "grid_template_columns": null,
            "grid_template_rows": null,
            "height": null,
            "justify_content": null,
            "justify_items": null,
            "left": null,
            "margin": null,
            "max_height": null,
            "max_width": null,
            "min_height": null,
            "min_width": null,
            "object_fit": null,
            "object_position": null,
            "order": null,
            "overflow": null,
            "overflow_x": null,
            "overflow_y": null,
            "padding": null,
            "right": null,
            "top": null,
            "visibility": null,
            "width": null
          }
        },
        "199685d4d83942988d0f420ae56d654b": {
          "model_module": "@jupyter-widgets/base",
          "model_name": "LayoutModel",
          "model_module_version": "1.2.0",
          "state": {
            "_model_module": "@jupyter-widgets/base",
            "_model_module_version": "1.2.0",
            "_model_name": "LayoutModel",
            "_view_count": null,
            "_view_module": "@jupyter-widgets/base",
            "_view_module_version": "1.2.0",
            "_view_name": "LayoutView",
            "align_content": null,
            "align_items": null,
            "align_self": null,
            "border": null,
            "bottom": null,
            "display": null,
            "flex": null,
            "flex_flow": null,
            "grid_area": null,
            "grid_auto_columns": null,
            "grid_auto_flow": null,
            "grid_auto_rows": null,
            "grid_column": null,
            "grid_gap": null,
            "grid_row": null,
            "grid_template_areas": null,
            "grid_template_columns": null,
            "grid_template_rows": null,
            "height": null,
            "justify_content": null,
            "justify_items": null,
            "left": null,
            "margin": null,
            "max_height": null,
            "max_width": null,
            "min_height": null,
            "min_width": null,
            "object_fit": null,
            "object_position": null,
            "order": null,
            "overflow": null,
            "overflow_x": null,
            "overflow_y": null,
            "padding": null,
            "right": null,
            "top": null,
            "visibility": null,
            "width": null
          }
        },
        "754e2480e3bc4b7cae682292f0f6a4dd": {
          "model_module": "@jupyter-widgets/controls",
          "model_name": "DescriptionStyleModel",
          "model_module_version": "1.5.0",
          "state": {
            "_model_module": "@jupyter-widgets/controls",
            "_model_module_version": "1.5.0",
            "_model_name": "DescriptionStyleModel",
            "_view_count": null,
            "_view_module": "@jupyter-widgets/base",
            "_view_module_version": "1.2.0",
            "_view_name": "StyleView",
            "description_width": ""
          }
        },
        "9899f600eddf41e49a7d85d4dda66dfe": {
          "model_module": "@jupyter-widgets/base",
          "model_name": "LayoutModel",
          "model_module_version": "1.2.0",
          "state": {
            "_model_module": "@jupyter-widgets/base",
            "_model_module_version": "1.2.0",
            "_model_name": "LayoutModel",
            "_view_count": null,
            "_view_module": "@jupyter-widgets/base",
            "_view_module_version": "1.2.0",
            "_view_name": "LayoutView",
            "align_content": null,
            "align_items": null,
            "align_self": null,
            "border": null,
            "bottom": null,
            "display": null,
            "flex": null,
            "flex_flow": null,
            "grid_area": null,
            "grid_auto_columns": null,
            "grid_auto_flow": null,
            "grid_auto_rows": null,
            "grid_column": null,
            "grid_gap": null,
            "grid_row": null,
            "grid_template_areas": null,
            "grid_template_columns": null,
            "grid_template_rows": null,
            "height": null,
            "justify_content": null,
            "justify_items": null,
            "left": null,
            "margin": null,
            "max_height": null,
            "max_width": null,
            "min_height": null,
            "min_width": null,
            "object_fit": null,
            "object_position": null,
            "order": null,
            "overflow": null,
            "overflow_x": null,
            "overflow_y": null,
            "padding": null,
            "right": null,
            "top": null,
            "visibility": null,
            "width": null
          }
        },
        "11346078fe5c4d1f8e36a7e438140f39": {
          "model_module": "@jupyter-widgets/controls",
          "model_name": "ProgressStyleModel",
          "model_module_version": "1.5.0",
          "state": {
            "_model_module": "@jupyter-widgets/controls",
            "_model_module_version": "1.5.0",
            "_model_name": "ProgressStyleModel",
            "_view_count": null,
            "_view_module": "@jupyter-widgets/base",
            "_view_module_version": "1.2.0",
            "_view_name": "StyleView",
            "bar_color": null,
            "description_width": ""
          }
        },
        "c8300c0540e74491b1863b3922c07bf0": {
          "model_module": "@jupyter-widgets/base",
          "model_name": "LayoutModel",
          "model_module_version": "1.2.0",
          "state": {
            "_model_module": "@jupyter-widgets/base",
            "_model_module_version": "1.2.0",
            "_model_name": "LayoutModel",
            "_view_count": null,
            "_view_module": "@jupyter-widgets/base",
            "_view_module_version": "1.2.0",
            "_view_name": "LayoutView",
            "align_content": null,
            "align_items": null,
            "align_self": null,
            "border": null,
            "bottom": null,
            "display": null,
            "flex": null,
            "flex_flow": null,
            "grid_area": null,
            "grid_auto_columns": null,
            "grid_auto_flow": null,
            "grid_auto_rows": null,
            "grid_column": null,
            "grid_gap": null,
            "grid_row": null,
            "grid_template_areas": null,
            "grid_template_columns": null,
            "grid_template_rows": null,
            "height": null,
            "justify_content": null,
            "justify_items": null,
            "left": null,
            "margin": null,
            "max_height": null,
            "max_width": null,
            "min_height": null,
            "min_width": null,
            "object_fit": null,
            "object_position": null,
            "order": null,
            "overflow": null,
            "overflow_x": null,
            "overflow_y": null,
            "padding": null,
            "right": null,
            "top": null,
            "visibility": null,
            "width": null
          }
        },
        "afea2156b5c1468aad05e72fc16031ca": {
          "model_module": "@jupyter-widgets/controls",
          "model_name": "DescriptionStyleModel",
          "model_module_version": "1.5.0",
          "state": {
            "_model_module": "@jupyter-widgets/controls",
            "_model_module_version": "1.5.0",
            "_model_name": "DescriptionStyleModel",
            "_view_count": null,
            "_view_module": "@jupyter-widgets/base",
            "_view_module_version": "1.2.0",
            "_view_name": "StyleView",
            "description_width": ""
          }
        },
        "752908ce47ac49cf8c93a8d77e6bce29": {
          "model_module": "@jupyter-widgets/controls",
          "model_name": "HBoxModel",
          "model_module_version": "1.5.0",
          "state": {
            "_dom_classes": [],
            "_model_module": "@jupyter-widgets/controls",
            "_model_module_version": "1.5.0",
            "_model_name": "HBoxModel",
            "_view_count": null,
            "_view_module": "@jupyter-widgets/controls",
            "_view_module_version": "1.5.0",
            "_view_name": "HBoxView",
            "box_style": "",
            "children": [
              "IPY_MODEL_a73bc49676ea4a0998428c78db7fb8e8",
              "IPY_MODEL_1b90e134683949e5b2e4dd8956c3b28e",
              "IPY_MODEL_7fe51a56af4144e2a2605b0b9579fbc8"
            ],
            "layout": "IPY_MODEL_f053a17b502f486a9becc0bba891056d"
          }
        },
        "a73bc49676ea4a0998428c78db7fb8e8": {
          "model_module": "@jupyter-widgets/controls",
          "model_name": "HTMLModel",
          "model_module_version": "1.5.0",
          "state": {
            "_dom_classes": [],
            "_model_module": "@jupyter-widgets/controls",
            "_model_module_version": "1.5.0",
            "_model_name": "HTMLModel",
            "_view_count": null,
            "_view_module": "@jupyter-widgets/controls",
            "_view_module_version": "1.5.0",
            "_view_name": "HTMLView",
            "description": "",
            "description_tooltip": null,
            "layout": "IPY_MODEL_36e5d746cb664e719098a913f48cc14b",
            "placeholder": "​",
            "style": "IPY_MODEL_c27479d61a3d44d3a821ba980ab6656b",
            "value": "Downloading: 100%"
          }
        },
        "1b90e134683949e5b2e4dd8956c3b28e": {
          "model_module": "@jupyter-widgets/controls",
          "model_name": "FloatProgressModel",
          "model_module_version": "1.5.0",
          "state": {
            "_dom_classes": [],
            "_model_module": "@jupyter-widgets/controls",
            "_model_module_version": "1.5.0",
            "_model_name": "FloatProgressModel",
            "_view_count": null,
            "_view_module": "@jupyter-widgets/controls",
            "_view_module_version": "1.5.0",
            "_view_name": "ProgressView",
            "bar_style": "success",
            "description": "",
            "description_tooltip": null,
            "layout": "IPY_MODEL_df969a98f8974a73a2bd3ae05391f891",
            "max": 898823,
            "min": 0,
            "orientation": "horizontal",
            "style": "IPY_MODEL_9bd9b51ccfe34bfd8d4a6a42cef29985",
            "value": 898823
          }
        },
        "7fe51a56af4144e2a2605b0b9579fbc8": {
          "model_module": "@jupyter-widgets/controls",
          "model_name": "HTMLModel",
          "model_module_version": "1.5.0",
          "state": {
            "_dom_classes": [],
            "_model_module": "@jupyter-widgets/controls",
            "_model_module_version": "1.5.0",
            "_model_name": "HTMLModel",
            "_view_count": null,
            "_view_module": "@jupyter-widgets/controls",
            "_view_module_version": "1.5.0",
            "_view_name": "HTMLView",
            "description": "",
            "description_tooltip": null,
            "layout": "IPY_MODEL_15de7d4808504444a2c4ff353803a330",
            "placeholder": "​",
            "style": "IPY_MODEL_efe776904f5649e9a5e9a7f2753858dd",
            "value": " 878k/878k [00:00&lt;00:00, 4.87MB/s]"
          }
        },
        "f053a17b502f486a9becc0bba891056d": {
          "model_module": "@jupyter-widgets/base",
          "model_name": "LayoutModel",
          "model_module_version": "1.2.0",
          "state": {
            "_model_module": "@jupyter-widgets/base",
            "_model_module_version": "1.2.0",
            "_model_name": "LayoutModel",
            "_view_count": null,
            "_view_module": "@jupyter-widgets/base",
            "_view_module_version": "1.2.0",
            "_view_name": "LayoutView",
            "align_content": null,
            "align_items": null,
            "align_self": null,
            "border": null,
            "bottom": null,
            "display": null,
            "flex": null,
            "flex_flow": null,
            "grid_area": null,
            "grid_auto_columns": null,
            "grid_auto_flow": null,
            "grid_auto_rows": null,
            "grid_column": null,
            "grid_gap": null,
            "grid_row": null,
            "grid_template_areas": null,
            "grid_template_columns": null,
            "grid_template_rows": null,
            "height": null,
            "justify_content": null,
            "justify_items": null,
            "left": null,
            "margin": null,
            "max_height": null,
            "max_width": null,
            "min_height": null,
            "min_width": null,
            "object_fit": null,
            "object_position": null,
            "order": null,
            "overflow": null,
            "overflow_x": null,
            "overflow_y": null,
            "padding": null,
            "right": null,
            "top": null,
            "visibility": null,
            "width": null
          }
        },
        "36e5d746cb664e719098a913f48cc14b": {
          "model_module": "@jupyter-widgets/base",
          "model_name": "LayoutModel",
          "model_module_version": "1.2.0",
          "state": {
            "_model_module": "@jupyter-widgets/base",
            "_model_module_version": "1.2.0",
            "_model_name": "LayoutModel",
            "_view_count": null,
            "_view_module": "@jupyter-widgets/base",
            "_view_module_version": "1.2.0",
            "_view_name": "LayoutView",
            "align_content": null,
            "align_items": null,
            "align_self": null,
            "border": null,
            "bottom": null,
            "display": null,
            "flex": null,
            "flex_flow": null,
            "grid_area": null,
            "grid_auto_columns": null,
            "grid_auto_flow": null,
            "grid_auto_rows": null,
            "grid_column": null,
            "grid_gap": null,
            "grid_row": null,
            "grid_template_areas": null,
            "grid_template_columns": null,
            "grid_template_rows": null,
            "height": null,
            "justify_content": null,
            "justify_items": null,
            "left": null,
            "margin": null,
            "max_height": null,
            "max_width": null,
            "min_height": null,
            "min_width": null,
            "object_fit": null,
            "object_position": null,
            "order": null,
            "overflow": null,
            "overflow_x": null,
            "overflow_y": null,
            "padding": null,
            "right": null,
            "top": null,
            "visibility": null,
            "width": null
          }
        },
        "c27479d61a3d44d3a821ba980ab6656b": {
          "model_module": "@jupyter-widgets/controls",
          "model_name": "DescriptionStyleModel",
          "model_module_version": "1.5.0",
          "state": {
            "_model_module": "@jupyter-widgets/controls",
            "_model_module_version": "1.5.0",
            "_model_name": "DescriptionStyleModel",
            "_view_count": null,
            "_view_module": "@jupyter-widgets/base",
            "_view_module_version": "1.2.0",
            "_view_name": "StyleView",
            "description_width": ""
          }
        },
        "df969a98f8974a73a2bd3ae05391f891": {
          "model_module": "@jupyter-widgets/base",
          "model_name": "LayoutModel",
          "model_module_version": "1.2.0",
          "state": {
            "_model_module": "@jupyter-widgets/base",
            "_model_module_version": "1.2.0",
            "_model_name": "LayoutModel",
            "_view_count": null,
            "_view_module": "@jupyter-widgets/base",
            "_view_module_version": "1.2.0",
            "_view_name": "LayoutView",
            "align_content": null,
            "align_items": null,
            "align_self": null,
            "border": null,
            "bottom": null,
            "display": null,
            "flex": null,
            "flex_flow": null,
            "grid_area": null,
            "grid_auto_columns": null,
            "grid_auto_flow": null,
            "grid_auto_rows": null,
            "grid_column": null,
            "grid_gap": null,
            "grid_row": null,
            "grid_template_areas": null,
            "grid_template_columns": null,
            "grid_template_rows": null,
            "height": null,
            "justify_content": null,
            "justify_items": null,
            "left": null,
            "margin": null,
            "max_height": null,
            "max_width": null,
            "min_height": null,
            "min_width": null,
            "object_fit": null,
            "object_position": null,
            "order": null,
            "overflow": null,
            "overflow_x": null,
            "overflow_y": null,
            "padding": null,
            "right": null,
            "top": null,
            "visibility": null,
            "width": null
          }
        },
        "9bd9b51ccfe34bfd8d4a6a42cef29985": {
          "model_module": "@jupyter-widgets/controls",
          "model_name": "ProgressStyleModel",
          "model_module_version": "1.5.0",
          "state": {
            "_model_module": "@jupyter-widgets/controls",
            "_model_module_version": "1.5.0",
            "_model_name": "ProgressStyleModel",
            "_view_count": null,
            "_view_module": "@jupyter-widgets/base",
            "_view_module_version": "1.2.0",
            "_view_name": "StyleView",
            "bar_color": null,
            "description_width": ""
          }
        },
        "15de7d4808504444a2c4ff353803a330": {
          "model_module": "@jupyter-widgets/base",
          "model_name": "LayoutModel",
          "model_module_version": "1.2.0",
          "state": {
            "_model_module": "@jupyter-widgets/base",
            "_model_module_version": "1.2.0",
            "_model_name": "LayoutModel",
            "_view_count": null,
            "_view_module": "@jupyter-widgets/base",
            "_view_module_version": "1.2.0",
            "_view_name": "LayoutView",
            "align_content": null,
            "align_items": null,
            "align_self": null,
            "border": null,
            "bottom": null,
            "display": null,
            "flex": null,
            "flex_flow": null,
            "grid_area": null,
            "grid_auto_columns": null,
            "grid_auto_flow": null,
            "grid_auto_rows": null,
            "grid_column": null,
            "grid_gap": null,
            "grid_row": null,
            "grid_template_areas": null,
            "grid_template_columns": null,
            "grid_template_rows": null,
            "height": null,
            "justify_content": null,
            "justify_items": null,
            "left": null,
            "margin": null,
            "max_height": null,
            "max_width": null,
            "min_height": null,
            "min_width": null,
            "object_fit": null,
            "object_position": null,
            "order": null,
            "overflow": null,
            "overflow_x": null,
            "overflow_y": null,
            "padding": null,
            "right": null,
            "top": null,
            "visibility": null,
            "width": null
          }
        },
        "efe776904f5649e9a5e9a7f2753858dd": {
          "model_module": "@jupyter-widgets/controls",
          "model_name": "DescriptionStyleModel",
          "model_module_version": "1.5.0",
          "state": {
            "_model_module": "@jupyter-widgets/controls",
            "_model_module_version": "1.5.0",
            "_model_name": "DescriptionStyleModel",
            "_view_count": null,
            "_view_module": "@jupyter-widgets/base",
            "_view_module_version": "1.2.0",
            "_view_name": "StyleView",
            "description_width": ""
          }
        },
        "f9532a2290644a148930ce2f52e5dc47": {
          "model_module": "@jupyter-widgets/controls",
          "model_name": "HBoxModel",
          "model_module_version": "1.5.0",
          "state": {
            "_dom_classes": [],
            "_model_module": "@jupyter-widgets/controls",
            "_model_module_version": "1.5.0",
            "_model_name": "HBoxModel",
            "_view_count": null,
            "_view_module": "@jupyter-widgets/controls",
            "_view_module_version": "1.5.0",
            "_view_name": "HBoxView",
            "box_style": "",
            "children": [
              "IPY_MODEL_9a7e76b4c668472b95f35e051489e502",
              "IPY_MODEL_b118df3b300a49538bc9e35a5c3dbeb0",
              "IPY_MODEL_e46f6e1ccd0d45609790cafad64ea9f3"
            ],
            "layout": "IPY_MODEL_dacd2da11c674376a3829dbe82885306"
          }
        },
        "9a7e76b4c668472b95f35e051489e502": {
          "model_module": "@jupyter-widgets/controls",
          "model_name": "HTMLModel",
          "model_module_version": "1.5.0",
          "state": {
            "_dom_classes": [],
            "_model_module": "@jupyter-widgets/controls",
            "_model_module_version": "1.5.0",
            "_model_name": "HTMLModel",
            "_view_count": null,
            "_view_module": "@jupyter-widgets/controls",
            "_view_module_version": "1.5.0",
            "_view_name": "HTMLView",
            "description": "",
            "description_tooltip": null,
            "layout": "IPY_MODEL_1e3f629297cd4bff9a09e29f73748473",
            "placeholder": "​",
            "style": "IPY_MODEL_74fea2e41d7d4330a9ee51001167f925",
            "value": "Downloading: 100%"
          }
        },
        "b118df3b300a49538bc9e35a5c3dbeb0": {
          "model_module": "@jupyter-widgets/controls",
          "model_name": "FloatProgressModel",
          "model_module_version": "1.5.0",
          "state": {
            "_dom_classes": [],
            "_model_module": "@jupyter-widgets/controls",
            "_model_module_version": "1.5.0",
            "_model_name": "FloatProgressModel",
            "_view_count": null,
            "_view_module": "@jupyter-widgets/controls",
            "_view_module_version": "1.5.0",
            "_view_name": "ProgressView",
            "bar_style": "success",
            "description": "",
            "description_tooltip": null,
            "layout": "IPY_MODEL_b812580a9cbb4470bb7315bdc32c14d9",
            "max": 456318,
            "min": 0,
            "orientation": "horizontal",
            "style": "IPY_MODEL_104d75fd27f249cdbf936f8b44af1322",
            "value": 456318
          }
        },
        "e46f6e1ccd0d45609790cafad64ea9f3": {
          "model_module": "@jupyter-widgets/controls",
          "model_name": "HTMLModel",
          "model_module_version": "1.5.0",
          "state": {
            "_dom_classes": [],
            "_model_module": "@jupyter-widgets/controls",
            "_model_module_version": "1.5.0",
            "_model_name": "HTMLModel",
            "_view_count": null,
            "_view_module": "@jupyter-widgets/controls",
            "_view_module_version": "1.5.0",
            "_view_name": "HTMLView",
            "description": "",
            "description_tooltip": null,
            "layout": "IPY_MODEL_0033f4d613d54d4d9f957211e8bd3017",
            "placeholder": "​",
            "style": "IPY_MODEL_efb0b859d17344c89e343989052570cb",
            "value": " 446k/446k [00:00&lt;00:00, 9.91kB/s]"
          }
        },
        "dacd2da11c674376a3829dbe82885306": {
          "model_module": "@jupyter-widgets/base",
          "model_name": "LayoutModel",
          "model_module_version": "1.2.0",
          "state": {
            "_model_module": "@jupyter-widgets/base",
            "_model_module_version": "1.2.0",
            "_model_name": "LayoutModel",
            "_view_count": null,
            "_view_module": "@jupyter-widgets/base",
            "_view_module_version": "1.2.0",
            "_view_name": "LayoutView",
            "align_content": null,
            "align_items": null,
            "align_self": null,
            "border": null,
            "bottom": null,
            "display": null,
            "flex": null,
            "flex_flow": null,
            "grid_area": null,
            "grid_auto_columns": null,
            "grid_auto_flow": null,
            "grid_auto_rows": null,
            "grid_column": null,
            "grid_gap": null,
            "grid_row": null,
            "grid_template_areas": null,
            "grid_template_columns": null,
            "grid_template_rows": null,
            "height": null,
            "justify_content": null,
            "justify_items": null,
            "left": null,
            "margin": null,
            "max_height": null,
            "max_width": null,
            "min_height": null,
            "min_width": null,
            "object_fit": null,
            "object_position": null,
            "order": null,
            "overflow": null,
            "overflow_x": null,
            "overflow_y": null,
            "padding": null,
            "right": null,
            "top": null,
            "visibility": null,
            "width": null
          }
        },
        "1e3f629297cd4bff9a09e29f73748473": {
          "model_module": "@jupyter-widgets/base",
          "model_name": "LayoutModel",
          "model_module_version": "1.2.0",
          "state": {
            "_model_module": "@jupyter-widgets/base",
            "_model_module_version": "1.2.0",
            "_model_name": "LayoutModel",
            "_view_count": null,
            "_view_module": "@jupyter-widgets/base",
            "_view_module_version": "1.2.0",
            "_view_name": "LayoutView",
            "align_content": null,
            "align_items": null,
            "align_self": null,
            "border": null,
            "bottom": null,
            "display": null,
            "flex": null,
            "flex_flow": null,
            "grid_area": null,
            "grid_auto_columns": null,
            "grid_auto_flow": null,
            "grid_auto_rows": null,
            "grid_column": null,
            "grid_gap": null,
            "grid_row": null,
            "grid_template_areas": null,
            "grid_template_columns": null,
            "grid_template_rows": null,
            "height": null,
            "justify_content": null,
            "justify_items": null,
            "left": null,
            "margin": null,
            "max_height": null,
            "max_width": null,
            "min_height": null,
            "min_width": null,
            "object_fit": null,
            "object_position": null,
            "order": null,
            "overflow": null,
            "overflow_x": null,
            "overflow_y": null,
            "padding": null,
            "right": null,
            "top": null,
            "visibility": null,
            "width": null
          }
        },
        "74fea2e41d7d4330a9ee51001167f925": {
          "model_module": "@jupyter-widgets/controls",
          "model_name": "DescriptionStyleModel",
          "model_module_version": "1.5.0",
          "state": {
            "_model_module": "@jupyter-widgets/controls",
            "_model_module_version": "1.5.0",
            "_model_name": "DescriptionStyleModel",
            "_view_count": null,
            "_view_module": "@jupyter-widgets/base",
            "_view_module_version": "1.2.0",
            "_view_name": "StyleView",
            "description_width": ""
          }
        },
        "b812580a9cbb4470bb7315bdc32c14d9": {
          "model_module": "@jupyter-widgets/base",
          "model_name": "LayoutModel",
          "model_module_version": "1.2.0",
          "state": {
            "_model_module": "@jupyter-widgets/base",
            "_model_module_version": "1.2.0",
            "_model_name": "LayoutModel",
            "_view_count": null,
            "_view_module": "@jupyter-widgets/base",
            "_view_module_version": "1.2.0",
            "_view_name": "LayoutView",
            "align_content": null,
            "align_items": null,
            "align_self": null,
            "border": null,
            "bottom": null,
            "display": null,
            "flex": null,
            "flex_flow": null,
            "grid_area": null,
            "grid_auto_columns": null,
            "grid_auto_flow": null,
            "grid_auto_rows": null,
            "grid_column": null,
            "grid_gap": null,
            "grid_row": null,
            "grid_template_areas": null,
            "grid_template_columns": null,
            "grid_template_rows": null,
            "height": null,
            "justify_content": null,
            "justify_items": null,
            "left": null,
            "margin": null,
            "max_height": null,
            "max_width": null,
            "min_height": null,
            "min_width": null,
            "object_fit": null,
            "object_position": null,
            "order": null,
            "overflow": null,
            "overflow_x": null,
            "overflow_y": null,
            "padding": null,
            "right": null,
            "top": null,
            "visibility": null,
            "width": null
          }
        },
        "104d75fd27f249cdbf936f8b44af1322": {
          "model_module": "@jupyter-widgets/controls",
          "model_name": "ProgressStyleModel",
          "model_module_version": "1.5.0",
          "state": {
            "_model_module": "@jupyter-widgets/controls",
            "_model_module_version": "1.5.0",
            "_model_name": "ProgressStyleModel",
            "_view_count": null,
            "_view_module": "@jupyter-widgets/base",
            "_view_module_version": "1.2.0",
            "_view_name": "StyleView",
            "bar_color": null,
            "description_width": ""
          }
        },
        "0033f4d613d54d4d9f957211e8bd3017": {
          "model_module": "@jupyter-widgets/base",
          "model_name": "LayoutModel",
          "model_module_version": "1.2.0",
          "state": {
            "_model_module": "@jupyter-widgets/base",
            "_model_module_version": "1.2.0",
            "_model_name": "LayoutModel",
            "_view_count": null,
            "_view_module": "@jupyter-widgets/base",
            "_view_module_version": "1.2.0",
            "_view_name": "LayoutView",
            "align_content": null,
            "align_items": null,
            "align_self": null,
            "border": null,
            "bottom": null,
            "display": null,
            "flex": null,
            "flex_flow": null,
            "grid_area": null,
            "grid_auto_columns": null,
            "grid_auto_flow": null,
            "grid_auto_rows": null,
            "grid_column": null,
            "grid_gap": null,
            "grid_row": null,
            "grid_template_areas": null,
            "grid_template_columns": null,
            "grid_template_rows": null,
            "height": null,
            "justify_content": null,
            "justify_items": null,
            "left": null,
            "margin": null,
            "max_height": null,
            "max_width": null,
            "min_height": null,
            "min_width": null,
            "object_fit": null,
            "object_position": null,
            "order": null,
            "overflow": null,
            "overflow_x": null,
            "overflow_y": null,
            "padding": null,
            "right": null,
            "top": null,
            "visibility": null,
            "width": null
          }
        },
        "efb0b859d17344c89e343989052570cb": {
          "model_module": "@jupyter-widgets/controls",
          "model_name": "DescriptionStyleModel",
          "model_module_version": "1.5.0",
          "state": {
            "_model_module": "@jupyter-widgets/controls",
            "_model_module_version": "1.5.0",
            "_model_name": "DescriptionStyleModel",
            "_view_count": null,
            "_view_module": "@jupyter-widgets/base",
            "_view_module_version": "1.2.0",
            "_view_name": "StyleView",
            "description_width": ""
          }
        }
      }
    },
    "accelerator": "GPU"
  },
  "cells": [
    {
      "cell_type": "code",
      "source": [
        "import warnings\n",
        "warnings.filterwarnings('ignore')\n",
        "\n",
        "import matplotlib.pyplot as plt\n",
        "import seaborn as sns\n",
        "import pandas as pd\n",
        "import numpy as np\n",
        "import string\n",
        "import re\n",
        "\n",
        "from sklearn.model_selection import train_test_split"
      ],
      "metadata": {
        "id": "Gg1wnbi6fA2Q"
      },
      "execution_count": null,
      "outputs": []
    },
    {
      "cell_type": "code",
      "execution_count": null,
      "metadata": {
        "colab": {
          "base_uri": "https://localhost:8080/"
        },
        "id": "U7gfUsa3e8Su",
        "outputId": "405095cf-980c-431e-fb11-c2e12b2b27b3"
      },
      "outputs": [
        {
          "output_type": "stream",
          "name": "stdout",
          "text": [
            "--2022-04-08 12:19:24--  https://ml-coding-test.s3.eu-west-1.amazonaws.com/webis_train.csv\n",
            "Resolving ml-coding-test.s3.eu-west-1.amazonaws.com (ml-coding-test.s3.eu-west-1.amazonaws.com)... 52.218.84.19\n",
            "Connecting to ml-coding-test.s3.eu-west-1.amazonaws.com (ml-coding-test.s3.eu-west-1.amazonaws.com)|52.218.84.19|:443... connected.\n",
            "HTTP request sent, awaiting response... 200 OK\n",
            "Length: 93472103 (89M) [text/csv]\n",
            "Saving to: ‘webis_train.csv’\n",
            "\n",
            "webis_train.csv     100%[===================>]  89.14M  26.4MB/s    in 3.4s    \n",
            "\n",
            "2022-04-08 12:19:28 (26.4 MB/s) - ‘webis_train.csv’ saved [93472103/93472103]\n",
            "\n",
            "--2022-04-08 12:19:28--  https://ml-coding-test.s3.eu-west-1.amazonaws.com/webis_test.csv\n",
            "Resolving ml-coding-test.s3.eu-west-1.amazonaws.com (ml-coding-test.s3.eu-west-1.amazonaws.com)... 52.218.106.136\n",
            "Connecting to ml-coding-test.s3.eu-west-1.amazonaws.com (ml-coding-test.s3.eu-west-1.amazonaws.com)|52.218.106.136|:443... connected.\n",
            "HTTP request sent, awaiting response... 200 OK\n",
            "Length: 90117240 (86M) [text/csv]\n",
            "Saving to: ‘webis_test.csv’\n",
            "\n",
            "webis_test.csv      100%[===================>]  85.94M  26.8MB/s    in 3.2s    \n",
            "\n",
            "2022-04-08 12:19:32 (26.8 MB/s) - ‘webis_test.csv’ saved [90117240/90117240]\n",
            "\n"
          ]
        }
      ],
      "source": [
        "!wget https://ml-coding-test.s3.eu-west-1.amazonaws.com/webis_train.csv\n",
        "!wget https://ml-coding-test.s3.eu-west-1.amazonaws.com/webis_test.csv"
      ]
    },
    {
      "cell_type": "code",
      "source": [
        "# Load data\n",
        "train_data = pd.read_csv('webis_train.csv')\n",
        "test_data = pd.read_csv('webis_test.csv')\n",
        "\n",
        "# Get the fields we are going to use\n",
        "train_data = train_data[[\"postText\", \"truthClass\"]]\n",
        "test_data = test_data[[\"postText\", \"truthClass\"]]"
      ],
      "metadata": {
        "id": "4Hand4HtnsLo"
      },
      "execution_count": null,
      "outputs": []
    },
    {
      "cell_type": "code",
      "source": [
        "# Number of entries\n",
        "print(f\"Number of train entries: {len(train_data)}\")\n",
        "print(f\"Number of test entries: {len(test_data)}\\n\")\n",
        "\n",
        "# Show samples\n",
        "print(\"Train samples:\")\n",
        "print(f\"{train_data.head()}\\n\")\n",
        "print(\"Test samples:\")\n",
        "print(f\"{test_data.head()}\\n\")\n",
        "\n",
        "# Check for invalid entries and drop them\n",
        "print(f\"Train dataset invalid entries: {train_data['postText'].isnull().sum()}\")\n",
        "train_data = train_data[train_data['postText'].notna()]\n",
        "print(f\"Test dataset invalid entries: {test_data['postText'].isnull().sum()}\\n\")\n",
        "test_data = test_data[test_data['postText'].notna()]\n",
        "\n",
        "# Check for duplicates (uncased) and drop them\n",
        "# train\n",
        "train_lower = train_data.copy()\n",
        "train_lower[\"postText\"] = train_lower[\"postText\"].apply(lambda x: x.lower())\n",
        "dupes = train_lower[\"postText\"].duplicated()\n",
        "print(f\"Number of train duplicates {len(dupes[dupes == True])}\")\n",
        "train_data.drop(dupes[dupes == True].index, inplace=True)\n",
        "# test\n",
        "test_lower = test_data.copy()\n",
        "test_lower[\"postText\"] = test_lower[\"postText\"].apply(lambda x: x.lower())\n",
        "dupes = test_lower[\"postText\"].duplicated()\n",
        "print(f\"Number of test duplicates {len(dupes[dupes == True])}\")\n",
        "test_data.drop(dupes[dupes == True].index, inplace=True)"
      ],
      "metadata": {
        "colab": {
          "base_uri": "https://localhost:8080/"
        },
        "id": "aXi7DoeGfDc5",
        "outputId": "2f6c6be7-b364-4795-c6b0-2d8724a1df9a"
      },
      "execution_count": null,
      "outputs": [
        {
          "output_type": "stream",
          "name": "stdout",
          "text": [
            "Number of train entries: 19538\n",
            "Number of test entries: 18979\n",
            "\n",
            "Train samples:\n",
            "                                            postText    truthClass\n",
            "0  UK’s response to modern slavery leaving victim...  no-clickbait\n",
            "1                                       this is good     clickbait\n",
            "2  The \"forgotten\" Trump roast: Relive his brutal...  no-clickbait\n",
            "3               Meet the happiest #dog in the world!     clickbait\n",
            "4  Tokyo's subway is shut down amid fears over an...  no-clickbait\n",
            "\n",
            "Test samples:\n",
            "                                            postText    truthClass\n",
            "0  Johnny Manziel on Browns' No. 1 pick Myles Gar...  no-clickbait\n",
            "1  Fabio: California Is a 'Mess' Because of Liber...  no-clickbait\n",
            "2            \"He's been huge for us this year, man.\"     clickbait\n",
            "3  New Bears quarterback Mitchell Trubisky was gr...  no-clickbait\n",
            "4  It's not enough to let employees work flexible...  no-clickbait\n",
            "\n",
            "Train dataset invalid entries: 54\n",
            "Test dataset invalid entries: 66\n",
            "\n",
            "Number of train duplicates 409\n",
            "Number of test duplicates 387\n"
          ]
        }
      ]
    },
    {
      "cell_type": "markdown",
      "source": [
        "## Data visualization"
      ],
      "metadata": {
        "id": "Kv9i-xjnol5t"
      }
    },
    {
      "cell_type": "code",
      "source": [
        "# Class distribution (train dataset)\n",
        "print(train_data['truthClass'].value_counts())\n",
        "\n",
        "plt.figure(figsize=(10,5))\n",
        "sns.countplot(y='truthClass', data = train_data)\n",
        "plt.ylabel(\"Is clickbait\")\n",
        "plt.xlabel(\"Number of tweets\")\n",
        "plt.show()"
      ],
      "metadata": {
        "colab": {
          "base_uri": "https://localhost:8080/",
          "height": 386
        },
        "id": "KN1FquxQfKCh",
        "outputId": "25732af2-e706-473d-9488-c93e1daecd67"
      },
      "execution_count": null,
      "outputs": [
        {
          "output_type": "stream",
          "name": "stdout",
          "text": [
            "no-clickbait    14544\n",
            "clickbait        4531\n",
            "Name: truthClass, dtype: int64\n"
          ]
        },
        {
          "output_type": "display_data",
          "data": {
            "text/plain": [
              "<Figure size 720x360 with 1 Axes>"
            ],
            "image/png": "[encoded data removed]"
          },
          "metadata": {
            "needs_background": "light"
          }
        }
      ]
    },
    {
      "cell_type": "code",
      "source": [
        "# Tweet length by characters (train dataset)\n",
        "plt.figure(figsize=(10,5))\n",
        "char_len = train_data['postText'].str.len()\n",
        "sns.boxplot(x=\"truthClass\", y=char_len, data=train_data)\n",
        "plt.ylabel(\"Is clickbait\")\n",
        "plt.ylabel(\"Tweet Length by character\")\n",
        "plt.show()"
      ],
      "metadata": {
        "colab": {
          "base_uri": "https://localhost:8080/",
          "height": 334
        },
        "id": "ZvEoQXeBfb7h",
        "outputId": "07df89b6-0144-4f64-f264-f788d527ac7a"
      },
      "execution_count": null,
      "outputs": [
        {
          "output_type": "display_data",
          "data": {
            "text/plain": [
              "<Figure size 720x360 with 1 Axes>"
            ],
            "image/png": "[encoded data removed]"
          },
          "metadata": {
            "needs_background": "light"
          }
        }
      ]
    },
    {
      "cell_type": "code",
      "source": [
        "#Visualizing tweet length by words (train dataset)\n",
        "plt.figure(figsize=(10,5))\n",
        "word_len = train_data['postText'].str.split().map(lambda x : len(x))\n",
        "sns.boxplot(x=\"truthClass\", y=word_len, data=train_data, palette=\"Paired\")\n",
        "plt.ylabel(\"Is clickbait\")\n",
        "plt.ylabel(\"Tweet length by word\")\n",
        "plt.show()"
      ],
      "metadata": {
        "colab": {
          "base_uri": "https://localhost:8080/",
          "height": 334
        },
        "id": "KKzyBJHkf6hx",
        "outputId": "0f34189d-23d6-4564-9e91-7338a81c2d18"
      },
      "execution_count": null,
      "outputs": [
        {
          "output_type": "display_data",
          "data": {
            "text/plain": [
              "<Figure size 720x360 with 1 Axes>"
            ],
            "image/png": "[encoded data removed]"
          },
          "metadata": {
            "needs_background": "light"
          }
        }
      ]
    },
    {
      "cell_type": "code",
      "source": [
        "# word_count\n",
        "train_data['word_count'] = train_data['postText'].apply(lambda x: len(str(x).split()))\n",
        "test_data['word_count'] = test_data['postText'].apply(lambda x: len(str(x).split()))\n",
        "\n",
        "# unique_word_count\n",
        "train_data['unique_word_count'] = train_data['postText'].apply(lambda x: len(set(str(x).split())))\n",
        "test_data['unique_word_count'] = test_data['postText'].apply(lambda x: len(set(str(x).split())))\n",
        "\n",
        "# url_count\n",
        "train_data['url_count'] = train_data['postText'].apply(lambda x: len([w for w in str(x).lower().split() if 'http' in w or 'https' in w]))\n",
        "test_data['url_count'] = test_data['postText'].apply(lambda x: len([w for w in str(x).lower().split() if 'http' in w or 'https' in w]))\n",
        "\n",
        "# mean_word_length\n",
        "train_data['mean_word_length'] = train_data['postText'].apply(lambda x: np.mean([len(w) for w in str(x).split()]))\n",
        "test_data['mean_word_length'] = test_data['postText'].apply(lambda x: np.mean([len(w) for w in str(x).split()]))\n",
        "\n",
        "# char_count\n",
        "train_data['char_count'] = train_data['postText'].apply(lambda x: len(str(x)))\n",
        "test_data['char_count'] = test_data['postText'].apply(lambda x: len(str(x)))"
      ],
      "metadata": {
        "id": "cdoyO4rHf-4h"
      },
      "execution_count": null,
      "outputs": []
    },
    {
      "cell_type": "code",
      "source": [
        "METAFEATURES = ['word_count', 'unique_word_count', 'url_count', 'mean_word_length', 'char_count']\n",
        "CLICKBAIT_TWEETS = train_data['truthClass'] == 'clickbait'\n",
        "\n",
        "fig, axes = plt.subplots(ncols=2, nrows=len(METAFEATURES), figsize=(20, 50), dpi=100)\n",
        "\n",
        "for i, feature in enumerate(METAFEATURES):\n",
        "    sns.distplot(train_data.loc[~CLICKBAIT_TWEETS][feature], label='No-clickbait', ax=axes[i][0], color='green')\n",
        "    sns.distplot(train_data.loc[CLICKBAIT_TWEETS][feature], label='Clickbait', ax=axes[i][0], color='red')\n",
        "\n",
        "    sns.distplot(train_data[feature], label='Training', ax=axes[i][1])\n",
        "    sns.distplot(test_data[feature], label='Test', ax=axes[i][1])\n",
        "    \n",
        "    for j in range(2):\n",
        "        axes[i][j].set_xlabel('')\n",
        "        axes[i][j].tick_params(axis='x', labelsize=12)\n",
        "        axes[i][j].tick_params(axis='y', labelsize=12)\n",
        "        axes[i][j].legend()\n",
        "    \n",
        "    axes[i][0].set_title(f'{feature} Target Distribution in Training Set', fontsize=13)\n",
        "    axes[i][1].set_title(f'{feature} Training & Test Set Distribution', fontsize=13)\n",
        "\n",
        "plt.show()"
      ],
      "metadata": {
        "colab": {
          "base_uri": "https://localhost:8080/",
          "height": 1000
        },
        "id": "80SJcnftg1tB",
        "outputId": "06a3c39d-bacf-41c1-db0c-e863bb22e4e6"
      },
      "execution_count": null,
      "outputs": [
        {
          "output_type": "display_data",
          "data": {
            "text/plain": [
              "<Figure size 2000x5000 with 10 Axes>"
            ],
            "image/png": "[encoded data removed]"
          },
          "metadata": {
            "needs_background": "light"
          }
        }
      ]
    },
    {
      "cell_type": "markdown",
      "source": [
        "## Primeras conclusiones\n",
        "\n",
        "En primer lugar, cabe destacacar el **pequeño número de entradas nulas y duplicadas**. Esto hace pensar que el dataset ya se encuentra limpio y que no hace falta procesarlo en este sentido. Por otro lado, dada la naturaleza del modelo a emplear, tampoco será necesario procesar los textos (quitando stopwords, emojis o abreviaturas) para así tratar de **conservar el contexto y que el lenguaje sea lo más natural posible**.\n",
        "\n",
        "Volviendo a los dataset de los que partimos y fijándonos en los gráficos creados, la primera conclusión a la que se llega es la **desigualdad en la proporción de las clases**: Alrededor de un 75% de los componentes del dataset de entrenamiento se corresponden a tweets clasificados como 'no-clickbait' y un 25% a los clasificados como 'clickbait'. La conclusión que sacamos sobre esto es que hasta un modelo en el que siempre se devuelva 'no-clickbait' tendría una precisión del 75%. Es por ello que se **tratará de preservar esta proporción** al crear el split de validación y **no usar técnicas de over-sampling** aunque a priori pueda parecer una buena idea.\n",
        "\n",
        "En cuanto al resto de figuras, se puede observar como existe una **distribución muy balanceada** entre los datasets de entrenamiento y test respecto al número de palabras y número de caracteres, número de palabras únicas y número de URLs.\n",
        "\n",
        "En cuanto a la distribusión de dichos indicadores respecto a las clases 'clickbait' y 'no-clickbait', vemos cómo si existe una diferencia algo más notable: **El número de palabras y caracteres, así como el número de palabras únicas es mayor en los casos etiquetados como 'no-clickbait'**."
      ],
      "metadata": {
        "id": "Jqyx-mXTq0qw"
      }
    },
    {
      "cell_type": "markdown",
      "source": [
        "---\n",
        "\n",
        "# Data preparation\n",
        "\n",
        "Como ya se ha comentado, no será necesario procesar los textos excesivamente. En este caso únicamente se va a crear el campo **text** que va a contener el texto en minúsculas (ya que el modelo utilizado está optimizado para este tipo de inputs, se van a eliminar algunos signus de puntuación y carácteres como saltos de linea y se van a preparar los splits de entrenamiento, validación y test:"
      ],
      "metadata": {
        "id": "77tTKWeo_0Iw"
      }
    },
    {
      "cell_type": "code",
      "source": [
        "# train\n",
        "train_data['text'] = train_data['postText']\n",
        "train_data['text'] = train_data[\"text\"].apply(lambda x: x.lower())\n",
        "train_data = train_data.replace(r'\\r+|\\n+|\\t+','', regex=True) # remove \\n, \\r and \\t\n",
        "train_data = train_data.replace(r'\\\\+\\|+\\'+\\\"+','', regex=True) # remove unwanted punctuation\n",
        "train_data['truthClass'] = train_data['truthClass'].map({'clickbait': 1, 'no-clickbait': 0})\n",
        "\n",
        "# test\n",
        "test_data['text'] = test_data['postText']\n",
        "test_data['text'] = test_data[\"text\"].apply(lambda x: x.lower())\n",
        "test_data = test_data.replace(r'\\r+|\\n+|\\t+','', regex=True) # remove \\n, \\r and \\t\n",
        "test_data = test_data.replace(r'\\\\+\\|+\\'+\\\"+','', regex=True) # remove unwanted punctuation\n",
        "test_data['truthClass'] = test_data['truthClass'].map({'clickbait': 1, 'no-clickbait': 0})"
      ],
      "metadata": {
        "id": "dSGunpJAhLGY"
      },
      "execution_count": null,
      "outputs": []
    },
    {
      "cell_type": "markdown",
      "source": [
        "Para preparar los splits de entrenamiento, test y validación, se va a utilizar la función train_test_split de sklearn usando la opción stratify sobre el campo truthClass para conservar la proporción de clases.\n",
        "\n",
        "Un tercio del dataset de entrenamiento pasará a ser el split de validación. El resto constituirá el split de entrenamiento y por último el dataset de test será integramente el split de test."
      ],
      "metadata": {
        "id": "holTyw9sBuht"
      }
    },
    {
      "cell_type": "code",
      "source": [
        "train_text, val_text, train_labels, val_labels = train_test_split(train_data.text, train_data.truthClass, random_state=42, test_size=0.33, stratify=train_data.truthClass)\n",
        "test_text = test_data.text\n",
        "test_labels = test_data.truthClass"
      ],
      "metadata": {
        "id": "IThW__dPAuEx"
      },
      "execution_count": null,
      "outputs": []
    },
    {
      "cell_type": "markdown",
      "source": [
        "---\n",
        "# Baselines"
      ],
      "metadata": {
        "id": "O3i0ZD1nQJkd"
      }
    },
    {
      "cell_type": "markdown",
      "source": [
        "## LSTM Baseline\n",
        "\n",
        "Comenzamos por tokenizar el texto con la librería de Keras"
      ],
      "metadata": {
        "id": "lJRj8dpqQC5d"
      }
    },
    {
      "cell_type": "code",
      "source": [
        "from tensorflow.keras.preprocessing.text import Tokenizer\n",
        "from tensorflow.keras.preprocessing.sequence import pad_sequences\n",
        "\n",
        "from tensorflow.keras.models import Sequential\n",
        "from tensorflow.keras.layers import Embedding, LSTM, Dense, Dropout, GlobalMaxPooling1D\n",
        "\n",
        "from tensorflow.keras.callbacks import ModelCheckpoint, EarlyStopping\n",
        "\n",
        "from sklearn.metrics import confusion_matrix\n",
        "from mlxtend.plotting import plot_confusion_matrix"
      ],
      "metadata": {
        "id": "4gYaAt_KQigJ"
      },
      "execution_count": null,
      "outputs": []
    },
    {
      "cell_type": "code",
      "source": [
        "bl_train_text = train_text.copy()\n",
        "bl_train_labels = train_labels.copy()\n",
        "\n",
        "bl_val_text = val_text.copy()\n",
        "bl_val_labels = val_labels.copy()"
      ],
      "metadata": {
        "id": "-UiMqSXJbxJa"
      },
      "execution_count": null,
      "outputs": []
    },
    {
      "cell_type": "code",
      "source": [
        "vocab_size = 5000\n",
        "maxlen = 500\n",
        "embedding_size = 32\n",
        "\n",
        "tokenizer = Tokenizer(num_words=vocab_size)\n",
        "tokenizer.fit_on_texts(bl_train_text)\n",
        "\n",
        "bl_train_text = tokenizer.texts_to_sequences(bl_train_text)\n",
        "bl_val_text = tokenizer.texts_to_sequences(val_text)\n",
        "\n",
        "bl_train_text = pad_sequences(bl_train_text, maxlen=maxlen)\n",
        "bl_val_text = pad_sequences(bl_val_text, maxlen=maxlen)"
      ],
      "metadata": {
        "id": "4ZCD8gv6B_nB"
      },
      "execution_count": null,
      "outputs": []
    },
    {
      "cell_type": "markdown",
      "source": [
        "### LSTM model definition"
      ],
      "metadata": {
        "id": "rRycdr2ZQ1hR"
      }
    },
    {
      "cell_type": "code",
      "source": [
        "model = Sequential()\n",
        "model.add(Embedding(vocab_size, embedding_size, input_length=maxlen))\n",
        "model.add(LSTM(32, return_sequences=True))\n",
        "model.add(GlobalMaxPooling1D())\n",
        "model.add(Dropout(0.2))\n",
        "model.add(Dense(1, activation='sigmoid'))\n",
        "model.summary()"
      ],
      "metadata": {
        "colab": {
          "base_uri": "https://localhost:8080/"
        },
        "id": "26rmGCMPQ0zq",
        "outputId": "580165dd-5b13-4dce-81c1-fc8ca9b1e612"
      },
      "execution_count": null,
      "outputs": [
        {
          "output_type": "stream",
          "name": "stdout",
          "text": [
            "Model: \"sequential\"\n",
            "_________________________________________________________________\n",
            " Layer (type)                Output Shape              Param #   \n",
            "=================================================================\n",
            " embedding (Embedding)       (None, 500, 32)           160000    \n",
            "                                                                 \n",
            " lstm (LSTM)                 (None, 500, 32)           8320      \n",
            "                                                                 \n",
            " global_max_pooling1d (Globa  (None, 32)               0         \n",
            " lMaxPooling1D)                                                  \n",
            "                                                                 \n",
            " dropout (Dropout)           (None, 32)                0         \n",
            "                                                                 \n",
            " dense (Dense)               (None, 1)                 33        \n",
            "                                                                 \n",
            "=================================================================\n",
            "Total params: 168,353\n",
            "Trainable params: 168,353\n",
            "Non-trainable params: 0\n",
            "_________________________________________________________________\n"
          ]
        }
      ]
    },
    {
      "cell_type": "code",
      "source": [
        "callbacks = [\n",
        "    EarlyStopping(\n",
        "        monitor='val_accuracy',\n",
        "        min_delta=1e-4,\n",
        "        patience=3,\n",
        "        verbose=1\n",
        "    ),\n",
        "    ModelCheckpoint(\n",
        "        filepath='lstm_bl_weights.h5',\n",
        "        monitor='val_accuracy', \n",
        "        mode='max', \n",
        "        save_best_only=True,\n",
        "        save_weights_only=True,\n",
        "        verbose=1\n",
        "    )\n",
        "]"
      ],
      "metadata": {
        "id": "nWiHh6RtRAA9"
      },
      "execution_count": null,
      "outputs": []
    },
    {
      "cell_type": "code",
      "source": [
        "model.compile(loss='binary_crossentropy', optimizer='adam', metrics=['accuracy'])\n",
        "lstm_bl_history = model.fit(bl_train_text, bl_train_labels, batch_size=512, validation_data=(bl_val_text, bl_val_labels), epochs=20, callbacks=callbacks)"
      ],
      "metadata": {
        "colab": {
          "base_uri": "https://localhost:8080/"
        },
        "id": "r7HxRG8UREv8",
        "outputId": "59abe49e-1481-417c-d972-5db8b4f532a3"
      },
      "execution_count": null,
      "outputs": [
        {
          "output_type": "stream",
          "name": "stdout",
          "text": [
            "Epoch 1/20\n",
            "25/25 [==============================] - ETA: 0s - loss: 0.6296 - accuracy: 0.7417\n",
            "Epoch 1: val_accuracy improved from -inf to 0.76251, saving model to lstm_bl_weights.h5\n",
            "25/25 [==============================] - 34s 1s/step - loss: 0.6296 - accuracy: 0.7417 - val_loss: 0.5476 - val_accuracy: 0.7625\n",
            "Epoch 2/20\n",
            "25/25 [==============================] - ETA: 0s - loss: 0.5539 - accuracy: 0.7624\n",
            "Epoch 2: val_accuracy did not improve from 0.76251\n",
            "25/25 [==============================] - 23s 924ms/step - loss: 0.5539 - accuracy: 0.7624 - val_loss: 0.5472 - val_accuracy: 0.7625\n",
            "Epoch 3/20\n",
            "25/25 [==============================] - ETA: 0s - loss: 0.5476 - accuracy: 0.7624\n",
            "Epoch 3: val_accuracy did not improve from 0.76251\n",
            "25/25 [==============================] - 24s 957ms/step - loss: 0.5476 - accuracy: 0.7624 - val_loss: 0.5420 - val_accuracy: 0.7625\n",
            "Epoch 4/20\n",
            "25/25 [==============================] - ETA: 0s - loss: 0.5365 - accuracy: 0.7624\n",
            "Epoch 4: val_accuracy did not improve from 0.76251\n",
            "25/25 [==============================] - 23s 946ms/step - loss: 0.5365 - accuracy: 0.7624 - val_loss: 0.5204 - val_accuracy: 0.7625\n",
            "Epoch 4: early stopping\n"
          ]
        }
      ]
    },
    {
      "cell_type": "code",
      "source": [
        "model.load_weights('lstm_bl_weights.h5')\n",
        "model.save('lstm_bl_model')"
      ],
      "metadata": {
        "colab": {
          "base_uri": "https://localhost:8080/"
        },
        "id": "06xR6oUaSqU8",
        "outputId": "3904d7b8-481a-4294-83f6-63f6974556bb"
      },
      "execution_count": null,
      "outputs": [
        {
          "output_type": "stream",
          "name": "stderr",
          "text": [
            "WARNING:absl:Found untraced functions such as lstm_cell_layer_call_fn, lstm_cell_layer_call_and_return_conditional_losses while saving (showing 2 of 2). These functions will not be directly callable after loading.\n"
          ]
        },
        {
          "output_type": "stream",
          "name": "stdout",
          "text": [
            "INFO:tensorflow:Assets written to: lstm_bl_model/assets\n"
          ]
        },
        {
          "output_type": "stream",
          "name": "stderr",
          "text": [
            "INFO:tensorflow:Assets written to: lstm_bl_model/assets\n",
            "WARNING:absl:<keras.layers.recurrent.LSTMCell object at 0x7f85ca3755d0> has the same name 'LSTMCell' as a built-in Keras object. Consider renaming <class 'keras.layers.recurrent.LSTMCell'> to avoid naming conflicts when loading with `tf.keras.models.load_model`. If renaming is not possible, pass the object in the `custom_objects` parameter of the load function.\n"
          ]
        }
      ]
    },
    {
      "cell_type": "code",
      "source": [
        "bl_test_text = test_text.copy()\n",
        "bl_test_labels = test_labels.copy()\n",
        "\n",
        "bl_test_text = tokenizer.texts_to_sequences(bl_test_text)\n",
        "bl_test_text = pad_sequences(bl_test_text, maxlen=maxlen)"
      ],
      "metadata": {
        "id": "8E6k9-nwcTjf"
      },
      "execution_count": null,
      "outputs": []
    },
    {
      "cell_type": "code",
      "source": [
        "lstm_preds = [round(i[0]) for i in model.predict(bl_test_text)]\n",
        "cm = confusion_matrix(bl_test_labels, lstm_preds)\n",
        "plt.figure()\n",
        "plot_confusion_matrix(cm, figsize=(12,8), hide_ticks=True, cmap=plt.cm.Blues)\n",
        "plt.xticks(range(2), ['Not clickbait', 'Clickbait'], fontsize=16)\n",
        "plt.yticks(range(2), ['Not clickbait', 'Clickbait'], fontsize=16)\n",
        "plt.show()"
      ],
      "metadata": {
        "colab": {
          "base_uri": "https://localhost:8080/",
          "height": 519
        },
        "id": "5cr2-borS0HY",
        "outputId": "3fafab3f-e95c-49e5-9c85-f832c8229b11"
      },
      "execution_count": null,
      "outputs": [
        {
          "output_type": "display_data",
          "data": {
            "text/plain": [
              "<Figure size 432x288 with 0 Axes>"
            ]
          },
          "metadata": {}
        },
        {
          "output_type": "display_data",
          "data": {
            "text/plain": [
              "<Figure size 864x576 with 1 Axes>"
            ],
            "image/png": "[encoded data removed]"
          },
          "metadata": {
            "needs_background": "light"
          }
        }
      ]
    },
    {
      "cell_type": "markdown",
      "source": [
        "Como se puede observar, el modelo ha aprendido ha devolver siempre 0, es decir, identificar todos los textos como 'no-clickbait'. Esto es explicable debido a desbalance entre clases al que se ha hehco referencia anteriormente.\n",
        "\n",
        "Dado que en este caso este modelo es simplemente un baseline no se va a modificar para tratar de modificarse. Sin embargo nos sirve para ver que la precisión no será una buena métrica para este caso concreto."
      ],
      "metadata": {
        "id": "xrXumHoQgn0W"
      }
    },
    {
      "cell_type": "markdown",
      "source": [
        "## Other baselines"
      ],
      "metadata": {
        "id": "HFrnKHuIbACL"
      }
    },
    {
      "cell_type": "code",
      "source": [
        "from sklearn.metrics import roc_auc_score\n",
        "from sklearn.metrics import log_loss\n",
        "from sklearn.linear_model import LinearRegression\n",
        "from sklearn.naive_bayes import GaussianNB\n",
        "from sklearn.linear_model import SGDClassifier\n",
        "from sklearn import tree\n",
        "from sklearn.model_selection import train_test_split\n",
        "from sklearn.linear_model import LogisticRegression\n",
        "from sklearn import linear_model\n",
        "from sklearn.dummy import DummyClassifier\n",
        "from sklearn.metrics import accuracy_score\n",
        "from sklearn.ensemble import RandomForestClassifier\n",
        "from sklearn.linear_model import Perceptron\n",
        "from sklearn.linear_model import SGDClassifier\n",
        "from sklearn.tree import DecisionTreeClassifier\n",
        "from sklearn.neighbors import KNeighborsClassifier\n",
        "from sklearn.svm import SVC, LinearSVC\n",
        "from sklearn.naive_bayes import GaussianNB\n",
        "from sklearn import linear_model\n",
        "import xgboost as xgb\n",
        "from xgboost import XGBClassifier\n",
        "from sklearn.cluster import KMeans\n",
        "from lightgbm import LGBMClassifier"
      ],
      "metadata": {
        "id": "Qe_H_7pzS0J3"
      },
      "execution_count": null,
      "outputs": []
    },
    {
      "cell_type": "code",
      "source": [
        "knn = KNeighborsClassifier(n_neighbors=15)\n",
        "clf = knn.fit(bl_train_text, bl_train_labels)\n",
        "y_pred = clf.predict(bl_test_text)\n",
        "acc_knb_model=roc_auc_score(bl_test_labels, y_pred)*100\n",
        "acc_knb_model"
      ],
      "metadata": {
        "colab": {
          "base_uri": "https://localhost:8080/"
        },
        "id": "5oeYyvkaS0MN",
        "outputId": "8dc6b494-1ce3-4072-ef60-5fbffbc918dd"
      },
      "execution_count": null,
      "outputs": [
        {
          "output_type": "execute_result",
          "data": {
            "text/plain": [
              "56.048141331369614"
            ]
          },
          "metadata": {},
          "execution_count": 22
        }
      ]
    },
    {
      "cell_type": "code",
      "source": [
        "lr = LogisticRegression(C = 0.2)\n",
        "clf1 = lr.fit(bl_train_text, bl_train_labels)\n",
        "y_pred1 = clf1.predict(bl_test_text)\n",
        "acc_log_reg=roc_auc_score(bl_test_labels, y_pred1)*100\n",
        "acc_log_reg"
      ],
      "metadata": {
        "colab": {
          "base_uri": "https://localhost:8080/"
        },
        "id": "xzGShiX3S0Ol",
        "outputId": "9a4805e5-88bd-4df1-fba4-127a3ae11c7d"
      },
      "execution_count": null,
      "outputs": [
        {
          "output_type": "execute_result",
          "data": {
            "text/plain": [
              "50.01030057196546"
            ]
          },
          "metadata": {},
          "execution_count": 23
        }
      ]
    },
    {
      "cell_type": "code",
      "source": [
        "clf2 = GaussianNB().fit(bl_train_text, bl_train_labels)\n",
        "y_pred2 = clf2.predict(bl_test_text)\n",
        "acc_nb=roc_auc_score(bl_test_labels, y_pred2)*100\n",
        "acc_nb"
      ],
      "metadata": {
        "colab": {
          "base_uri": "https://localhost:8080/"
        },
        "id": "w7Rr_cSBS0Q_",
        "outputId": "f9eef43f-95f5-4995-9d60-bef996d9a862"
      },
      "execution_count": null,
      "outputs": [
        {
          "output_type": "execute_result",
          "data": {
            "text/plain": [
              "55.95976801653273"
            ]
          },
          "metadata": {},
          "execution_count": 24
        }
      ]
    },
    {
      "cell_type": "code",
      "source": [
        "clf3 = tree.DecisionTreeClassifier().fit(bl_train_text, bl_train_labels)\n",
        "y_pred3 = clf3.predict(bl_test_text)\n",
        "acc_dt=roc_auc_score(bl_test_labels, y_pred3)*100\n",
        "acc_dt"
      ],
      "metadata": {
        "colab": {
          "base_uri": "https://localhost:8080/"
        },
        "id": "RXeHUx-1S0Tv",
        "outputId": "e8b28997-34e3-4711-e620-95154227d345"
      },
      "execution_count": null,
      "outputs": [
        {
          "output_type": "execute_result",
          "data": {
            "text/plain": [
              "56.51489509474956"
            ]
          },
          "metadata": {},
          "execution_count": 25
        }
      ]
    },
    {
      "cell_type": "code",
      "source": [
        "clf4 = RandomForestClassifier(max_depth=5, random_state=0).fit(bl_train_text, bl_train_labels)\n",
        "y_pred4 = clf4.predict(bl_test_text)\n",
        "acc_rmf_model=roc_auc_score(bl_test_labels, y_pred4)*100\n",
        "acc_rmf_model"
      ],
      "metadata": {
        "colab": {
          "base_uri": "https://localhost:8080/"
        },
        "id": "loKIlLqrS0V9",
        "outputId": "401ae7b1-6d2d-4c6e-cfae-5bad4d70e6dc"
      },
      "execution_count": null,
      "outputs": [
        {
          "output_type": "execute_result",
          "data": {
            "text/plain": [
              "53.54380230332498"
            ]
          },
          "metadata": {},
          "execution_count": 26
        }
      ]
    },
    {
      "cell_type": "code",
      "source": [
        "sgd_model=SGDClassifier()\n",
        "sgd_model.fit(bl_train_text,bl_train_labels)\n",
        "sgd_pred=sgd_model.predict(bl_test_text)\n",
        "acc_sgd=round(sgd_model.score(bl_train_text,bl_train_labels)*100,10)\n",
        "acc_sgd"
      ],
      "metadata": {
        "colab": {
          "base_uri": "https://localhost:8080/"
        },
        "id": "fZuN_RJiS0YO",
        "outputId": "32e17326-08f3-45e8-f22e-2073636ac5b4"
      },
      "execution_count": null,
      "outputs": [
        {
          "output_type": "execute_result",
          "data": {
            "text/plain": [
              "74.5539906103"
            ]
          },
          "metadata": {},
          "execution_count": 27
        }
      ]
    },
    {
      "cell_type": "code",
      "source": [
        "xgb_model=XGBClassifier()\n",
        "xgb_model.fit(bl_train_text,bl_train_labels)\n",
        "xgb_pred=xgb_model.predict(bl_test_text)\n",
        "acc_xgb=round(xgb_model.score(bl_train_text,bl_train_labels)*100,10)\n",
        "acc_xgb"
      ],
      "metadata": {
        "colab": {
          "base_uri": "https://localhost:8080/"
        },
        "id": "f0yfWmhkS0bA",
        "outputId": "4b671a4c-603d-48d6-8404-bf500daff1a4"
      },
      "execution_count": null,
      "outputs": [
        {
          "output_type": "execute_result",
          "data": {
            "text/plain": [
              "78.2316118936"
            ]
          },
          "metadata": {},
          "execution_count": 28
        }
      ]
    },
    {
      "cell_type": "code",
      "source": [
        "lgbm = LGBMClassifier()\n",
        "lgbm.fit(bl_train_text,bl_train_labels)\n",
        "lgbm_pred=lgbm.predict(bl_test_text)\n",
        "acc_lgbm=round(lgbm.score(bl_train_text,bl_train_labels)*100,10)\n",
        "acc_lgbm"
      ],
      "metadata": {
        "colab": {
          "base_uri": "https://localhost:8080/"
        },
        "id": "acfnXXGsS0dY",
        "outputId": "18592097-6e88-421e-c8ac-76f5ee4907f0"
      },
      "execution_count": null,
      "outputs": [
        {
          "output_type": "execute_result",
          "data": {
            "text/plain": [
              "83.5524256651"
            ]
          },
          "metadata": {},
          "execution_count": 29
        }
      ]
    },
    {
      "cell_type": "code",
      "source": [
        "regr = linear_model.LinearRegression()\n",
        "regr.fit(bl_train_text,bl_train_labels)\n",
        "regr_pred=regr.predict(bl_test_text)\n",
        "acc_regr=round(regr.score(bl_train_text,bl_train_labels)*100,10)\n",
        "acc_regr"
      ],
      "metadata": {
        "colab": {
          "base_uri": "https://localhost:8080/"
        },
        "id": "gcdVAdJYbV9v",
        "outputId": "e58890e5-ca91-40ca-9d5a-df8cbf66c1f8"
      },
      "execution_count": null,
      "outputs": [
        {
          "output_type": "execute_result",
          "data": {
            "text/plain": [
              "0.8023273118"
            ]
          },
          "metadata": {},
          "execution_count": 30
        }
      ]
    },
    {
      "cell_type": "code",
      "source": [
        "clf5 = SVC(gamma='auto').fit(bl_train_text, bl_train_labels)\n",
        "y_pred5 = clf5.predict(bl_test_text)\n",
        "acc_svm_model=roc_auc_score(bl_test_labels, y_pred5)*100\n",
        "acc_svm_model"
      ],
      "metadata": {
        "colab": {
          "base_uri": "https://localhost:8080/"
        },
        "id": "MFaupPIhbWAO",
        "outputId": "d118010d-f0da-4b7b-b8b0-6242b3374f48"
      },
      "execution_count": null,
      "outputs": [
        {
          "output_type": "execute_result",
          "data": {
            "text/plain": [
              "53.08683073100669"
            ]
          },
          "metadata": {},
          "execution_count": 31
        }
      ]
    },
    {
      "cell_type": "code",
      "source": [
        "bl_results = pd.DataFrame({\n",
        "    'Model': ['Support Vector Machines', 'KNN', 'Logistic Regression', \n",
        "              'Random Forest','Stochastic Gradient Decent','Linear Regression','Naive Bayes','XGBoost','LightGBM','Decision Tree'],\n",
        "    'Score': [acc_svm_model, acc_knb_model, acc_log_reg, \n",
        "              acc_rmf_model,acc_sgd,acc_regr,acc_nb,acc_xgb,acc_lgbm,acc_dt]})\n",
        "bl_result_df = bl_results.sort_values(by='Score', ascending=False)\n",
        "bl_result_df = bl_result_df.set_index('Score')\n",
        "bl_result_df"
      ],
      "metadata": {
        "colab": {
          "base_uri": "https://localhost:8080/",
          "height": 394
        },
        "id": "_SY6cw9KbWCc",
        "outputId": "09459a5e-96d9-4c64-ce30-549eeb328430"
      },
      "execution_count": null,
      "outputs": [
        {
          "output_type": "execute_result",
          "data": {
            "text/plain": [
              "                                Model\n",
              "Score                                \n",
              "83.552426                    LightGBM\n",
              "78.231612                     XGBoost\n",
              "74.553991  Stochastic Gradient Decent\n",
              "56.514895               Decision Tree\n",
              "56.048141                         KNN\n",
              "55.959768                 Naive Bayes\n",
              "53.543802               Random Forest\n",
              "53.086831     Support Vector Machines\n",
              "50.010301         Logistic Regression\n",
              "0.802327            Linear Regression"
            ],
            "text/html": [
              "\n",
              "  <div id=\"df-98ecb442-9481-448b-ba40-a694edae3515\">\n",
              "    <div class=\"colab-df-container\">\n",
              "      <div>\n",
              "<style scoped>\n",
              "    .dataframe tbody tr th:only-of-type {\n",
              "        vertical-align: middle;\n",
              "    }\n",
              "\n",
              "    .dataframe tbody tr th {\n",
              "        vertical-align: top;\n",
              "    }\n",
              "\n",
              "    .dataframe thead th {\n",
              "        text-align: right;\n",
              "    }\n",
              "</style>\n",
              "<table border=\"1\" class=\"dataframe\">\n",
              "  <thead>\n",
              "    <tr style=\"text-align: right;\">\n",
              "      <th></th>\n",
              "      <th>Model</th>\n",
              "    </tr>\n",
              "    <tr>\n",
              "      <th>Score</th>\n",
              "      <th></th>\n",
              "    </tr>\n",
              "  </thead>\n",
              "  <tbody>\n",
              "    <tr>\n",
              "      <th>83.552426</th>\n",
              "      <td>LightGBM</td>\n",
              "    </tr>\n",
              "    <tr>\n",
              "      <th>78.231612</th>\n",
              "      <td>XGBoost</td>\n",
              "    </tr>\n",
              "    <tr>\n",
              "      <th>74.553991</th>\n",
              "      <td>Stochastic Gradient Decent</td>\n",
              "    </tr>\n",
              "    <tr>\n",
              "      <th>56.514895</th>\n",
              "      <td>Decision Tree</td>\n",
              "    </tr>\n",
              "    <tr>\n",
              "      <th>56.048141</th>\n",
              "      <td>KNN</td>\n",
              "    </tr>\n",
              "    <tr>\n",
              "      <th>55.959768</th>\n",
              "      <td>Naive Bayes</td>\n",
              "    </tr>\n",
              "    <tr>\n",
              "      <th>53.543802</th>\n",
              "      <td>Random Forest</td>\n",
              "    </tr>\n",
              "    <tr>\n",
              "      <th>53.086831</th>\n",
              "      <td>Support Vector Machines</td>\n",
              "    </tr>\n",
              "    <tr>\n",
              "      <th>50.010301</th>\n",
              "      <td>Logistic Regression</td>\n",
              "    </tr>\n",
              "    <tr>\n",
              "      <th>0.802327</th>\n",
              "      <td>Linear Regression</td>\n",
              "    </tr>\n",
              "  </tbody>\n",
              "</table>\n",
              "</div>\n",
              "      <button class=\"colab-df-convert\" onclick=\"convertToInteractive('df-98ecb442-9481-448b-ba40-a694edae3515')\"\n",
              "              title=\"Convert this dataframe to an interactive table.\"\n",
              "              style=\"display:none;\">\n",
              "        \n",
              "  <svg xmlns=\"http://www.w3.org/2000/svg\" height=\"24px\"viewBox=\"0 0 24 24\"\n",
              "       width=\"24px\">\n",
              "    <path d=\"M0 0h24v24H0V0z\" fill=\"none\"/>\n",
              "    <path d=\"M18.56 5.44l.94 2.06.94-2.06 2.06-.94-2.06-.94-.94-2.06-.94 2.06-2.06.94zm-11 1L8.5 8.5l.94-2.06 2.06-.94-2.06-.94L8.5 2.5l-.94 2.06-2.06.94zm10 10l.94 2.06.94-2.06 2.06-.94-2.06-.94-.94-2.06-.94 2.06-2.06.94z\"/><path d=\"M17.41 7.96l-1.37-1.37c-.4-.4-.92-.59-1.43-.59-.52 0-1.04.2-1.43.59L10.3 9.45l-7.72 7.72c-.78.78-.78 2.05 0 2.83L4 21.41c.39.39.9.59 1.41.59.51 0 1.02-.2 1.41-.59l7.78-7.78 2.81-2.81c.8-.78.8-2.07 0-2.86zM5.41 20L4 18.59l7.72-7.72 1.47 1.35L5.41 20z\"/>\n",
              "  </svg>\n",
              "      </button>\n",
              "      \n",
              "  <style>\n",
              "    .colab-df-container {\n",
              "      display:flex;\n",
              "      flex-wrap:wrap;\n",
              "      gap: 12px;\n",
              "    }\n",
              "\n",
              "    .colab-df-convert {\n",
              "      background-color: #E8F0FE;\n",
              "      border: none;\n",
              "      border-radius: 50%;\n",
              "      cursor: pointer;\n",
              "      display: none;\n",
              "      fill: #1967D2;\n",
              "      height: 32px;\n",
              "      padding: 0 0 0 0;\n",
              "      width: 32px;\n",
              "    }\n",
              "\n",
              "    .colab-df-convert:hover {\n",
              "      background-color: #E2EBFA;\n",
              "      box-shadow: 0px 1px 2px rgba(60, 64, 67, 0.3), 0px 1px 3px 1px rgba(60, 64, 67, 0.15);\n",
              "      fill: #174EA6;\n",
              "    }\n",
              "\n",
              "    [theme=dark] .colab-df-convert {\n",
              "      background-color: #3B4455;\n",
              "      fill: #D2E3FC;\n",
              "    }\n",
              "\n",
              "    [theme=dark] .colab-df-convert:hover {\n",
              "      background-color: #434B5C;\n",
              "      box-shadow: 0px 1px 3px 1px rgba(0, 0, 0, 0.15);\n",
              "      filter: drop-shadow(0px 1px 2px rgba(0, 0, 0, 0.3));\n",
              "      fill: #FFFFFF;\n",
              "    }\n",
              "  </style>\n",
              "\n",
              "      <script>\n",
              "        const buttonEl =\n",
              "          document.querySelector('#df-98ecb442-9481-448b-ba40-a694edae3515 button.colab-df-convert');\n",
              "        buttonEl.style.display =\n",
              "          google.colab.kernel.accessAllowed ? 'block' : 'none';\n",
              "\n",
              "        async function convertToInteractive(key) {\n",
              "          const element = document.querySelector('#df-98ecb442-9481-448b-ba40-a694edae3515');\n",
              "          const dataTable =\n",
              "            await google.colab.kernel.invokeFunction('convertToInteractive',\n",
              "                                                     [key], {});\n",
              "          if (!dataTable) return;\n",
              "\n",
              "          const docLinkHtml = 'Like what you see? Visit the ' +\n",
              "            '<a target=\"_blank\" href=https://colab.research.google.com/notebooks/data_table.ipynb>data table notebook</a>'\n",
              "            + ' to learn more about interactive tables.';\n",
              "          element.innerHTML = '';\n",
              "          dataTable['output_type'] = 'display_data';\n",
              "          await google.colab.output.renderOutput(dataTable, element);\n",
              "          const docLink = document.createElement('div');\n",
              "          docLink.innerHTML = docLinkHtml;\n",
              "          element.appendChild(docLink);\n",
              "        }\n",
              "      </script>\n",
              "    </div>\n",
              "  </div>\n",
              "  "
            ]
          },
          "metadata": {},
          "execution_count": 32
        }
      ]
    },
    {
      "cell_type": "markdown",
      "source": [
        "En la tabla anterior se pueden ver los resultados de otros modelos predictivos que servirán como baseline a parte del modelo anterior basado en LSTM."
      ],
      "metadata": {
        "id": "XWaeoy5choAo"
      }
    },
    {
      "cell_type": "markdown",
      "source": [
        "---\n",
        "# BERT based model"
      ],
      "metadata": {
        "id": "y9GhrZHdjTaB"
      }
    },
    {
      "cell_type": "code",
      "source": [
        "!pip install transformers\n",
        "from transformers import RobertaModel, RobertaTokenizer\n",
        "\n",
        "import torch\n",
        "import torch.nn as nn\n",
        "from torch.utils.data import TensorDataset, DataLoader, RandomSampler, SequentialSampler\n",
        "PYTORCH_CUDA_ALLOC_CONF=max_split_size_mb=512 # Helps prevent Out of CUDA Memory\n",
        "\n",
        "# specify GPU\n",
        "device = torch.device(\"cuda\")"
      ],
      "metadata": {
        "id": "padA6p08bWFE",
        "colab": {
          "base_uri": "https://localhost:8080/"
        },
        "outputId": "7b46d3ac-2d94-4f09-8077-a3b1f3970580"
      },
      "execution_count": null,
      "outputs": [
        {
          "output_type": "stream",
          "name": "stdout",
          "text": [
            "Collecting transformers\n",
            "  Downloading transformers-4.18.0-py3-none-any.whl (4.0 MB)\n",
            "\u001b[K     |████████████████████████████████| 4.0 MB 17.8 MB/s \n",
            "\u001b[?25hCollecting tokenizers!=0.11.3,<0.13,>=0.11.1\n",
            "  Downloading tokenizers-0.11.6-cp37-cp37m-manylinux_2_12_x86_64.manylinux2010_x86_64.whl (6.5 MB)\n",
            "\u001b[K     |████████████████████████████████| 6.5 MB 46.3 MB/s \n",
            "\u001b[?25hRequirement already satisfied: requests in /usr/local/lib/python3.7/dist-packages (from transformers) (2.23.0)\n",
            "Requirement already satisfied: packaging>=20.0 in /usr/local/lib/python3.7/dist-packages (from transformers) (21.3)\n",
            "Requirement already satisfied: importlib-metadata in /usr/local/lib/python3.7/dist-packages (from transformers) (4.11.3)\n",
            "Requirement already satisfied: regex!=2019.12.17 in /usr/local/lib/python3.7/dist-packages (from transformers) (2019.12.20)\n",
            "Collecting pyyaml>=5.1\n",
            "  Downloading PyYAML-6.0-cp37-cp37m-manylinux_2_5_x86_64.manylinux1_x86_64.manylinux_2_12_x86_64.manylinux2010_x86_64.whl (596 kB)\n",
            "\u001b[K     |████████████████████████████████| 596 kB 44.1 MB/s \n",
            "\u001b[?25hCollecting huggingface-hub<1.0,>=0.1.0\n",
            "  Downloading huggingface_hub-0.5.1-py3-none-any.whl (77 kB)\n",
            "\u001b[K     |████████████████████████████████| 77 kB 7.8 MB/s \n",
            "\u001b[?25hRequirement already satisfied: filelock in /usr/local/lib/python3.7/dist-packages (from transformers) (3.6.0)\n",
            "Collecting sacremoses\n",
            "  Downloading sacremoses-0.0.49-py3-none-any.whl (895 kB)\n",
            "\u001b[K     |████████████████████████████████| 895 kB 43.0 MB/s \n",
            "\u001b[?25hRequirement already satisfied: tqdm>=4.27 in /usr/local/lib/python3.7/dist-packages (from transformers) (4.63.0)\n",
            "Requirement already satisfied: numpy>=1.17 in /usr/local/lib/python3.7/dist-packages (from transformers) (1.21.5)\n",
            "Requirement already satisfied: typing-extensions>=3.7.4.3 in /usr/local/lib/python3.7/dist-packages (from huggingface-hub<1.0,>=0.1.0->transformers) (3.10.0.2)\n",
            "Requirement already satisfied: pyparsing!=3.0.5,>=2.0.2 in /usr/local/lib/python3.7/dist-packages (from packaging>=20.0->transformers) (3.0.7)\n",
            "Requirement already satisfied: zipp>=0.5 in /usr/local/lib/python3.7/dist-packages (from importlib-metadata->transformers) (3.7.0)\n",
            "Requirement already satisfied: urllib3!=1.25.0,!=1.25.1,<1.26,>=1.21.1 in /usr/local/lib/python3.7/dist-packages (from requests->transformers) (1.24.3)\n",
            "Requirement already satisfied: idna<3,>=2.5 in /usr/local/lib/python3.7/dist-packages (from requests->transformers) (2.10)\n",
            "Requirement already satisfied: certifi>=2017.4.17 in /usr/local/lib/python3.7/dist-packages (from requests->transformers) (2021.10.8)\n",
            "Requirement already satisfied: chardet<4,>=3.0.2 in /usr/local/lib/python3.7/dist-packages (from requests->transformers) (3.0.4)\n",
            "Requirement already satisfied: click in /usr/local/lib/python3.7/dist-packages (from sacremoses->transformers) (7.1.2)\n",
            "Requirement already satisfied: joblib in /usr/local/lib/python3.7/dist-packages (from sacremoses->transformers) (1.1.0)\n",
            "Requirement already satisfied: six in /usr/local/lib/python3.7/dist-packages (from sacremoses->transformers) (1.15.0)\n",
            "Installing collected packages: pyyaml, tokenizers, sacremoses, huggingface-hub, transformers\n",
            "  Attempting uninstall: pyyaml\n",
            "    Found existing installation: PyYAML 3.13\n",
            "    Uninstalling PyYAML-3.13:\n",
            "      Successfully uninstalled PyYAML-3.13\n",
            "Successfully installed huggingface-hub-0.5.1 pyyaml-6.0 sacremoses-0.0.49 tokenizers-0.11.6 transformers-4.18.0\n"
          ]
        }
      ]
    },
    {
      "cell_type": "code",
      "source": [
        "train_text = train_text.copy()\n",
        "train_labels = train_labels.copy()\n",
        "\n",
        "val_text = val_text.copy()\n",
        "val_labels = val_labels.copy()"
      ],
      "metadata": {
        "id": "GxBzILj-iWi_"
      },
      "execution_count": null,
      "outputs": []
    },
    {
      "cell_type": "code",
      "source": [
        "bert = RobertaModel.from_pretrained(\"roberta-base\")\n",
        "tokenizer = RobertaTokenizer.from_pretrained(\"roberta-base\")"
      ],
      "metadata": {
        "colab": {
          "base_uri": "https://localhost:8080/",
          "height": 197,
          "referenced_widgets": [
            "d76565d60b3e45fe9b2503677e59a18c",
            "b0a2e6c864914f5bb62a374dcce6f6e5",
            "11664197122e426bb0e6056e99f732e7",
            "e316449d43b04f8a8a8ac4a5250ec8a8",
            "ddf5bf3f1be34330b39d2ae8396eb5cc",
            "32fbc091a05b474d97c6c42a5c242e8e",
            "3b8ffd5483b84043b8f372e71850dbe4",
            "6ab5870aa60d4fcf9e338f3f81e2b8fd",
            "bf767e40c0044e3d9badf70bfa81ffca",
            "260982b95a3743dfa89921645d27a109",
            "9f00d646ff5144618a434c18a9d6bee7",
            "8c9e870fbd5e4f95a6c318db292d14d2",
            "303f4755ad8b4aac895a483b11657dd5",
            "f10716eeb7fb4d0fa90598a62f077097",
            "0303a3d3733f403ea3129dd897ef2922",
            "c29873d406d44f2f91b996a7f8176ff1",
            "199685d4d83942988d0f420ae56d654b",
            "754e2480e3bc4b7cae682292f0f6a4dd",
            "9899f600eddf41e49a7d85d4dda66dfe",
            "11346078fe5c4d1f8e36a7e438140f39",
            "c8300c0540e74491b1863b3922c07bf0",
            "afea2156b5c1468aad05e72fc16031ca",
            "752908ce47ac49cf8c93a8d77e6bce29",
            "a73bc49676ea4a0998428c78db7fb8e8",
            "1b90e134683949e5b2e4dd8956c3b28e",
            "7fe51a56af4144e2a2605b0b9579fbc8",
            "f053a17b502f486a9becc0bba891056d",
            "36e5d746cb664e719098a913f48cc14b",
            "c27479d61a3d44d3a821ba980ab6656b",
            "df969a98f8974a73a2bd3ae05391f891",
            "9bd9b51ccfe34bfd8d4a6a42cef29985",
            "15de7d4808504444a2c4ff353803a330",
            "efe776904f5649e9a5e9a7f2753858dd",
            "f9532a2290644a148930ce2f52e5dc47",
            "9a7e76b4c668472b95f35e051489e502",
            "b118df3b300a49538bc9e35a5c3dbeb0",
            "e46f6e1ccd0d45609790cafad64ea9f3",
            "dacd2da11c674376a3829dbe82885306",
            "1e3f629297cd4bff9a09e29f73748473",
            "74fea2e41d7d4330a9ee51001167f925",
            "b812580a9cbb4470bb7315bdc32c14d9",
            "104d75fd27f249cdbf936f8b44af1322",
            "0033f4d613d54d4d9f957211e8bd3017",
            "efb0b859d17344c89e343989052570cb"
          ]
        },
        "id": "vJfcNQWJjgGm",
        "outputId": "24e8bc83-5a0d-46b3-9ac0-e46f42576964"
      },
      "execution_count": null,
      "outputs": [
        {
          "output_type": "display_data",
          "data": {
            "text/plain": [
              "Downloading:   0%|          | 0.00/481 [00:00<?, ?B/s]"
            ],
            "application/vnd.jupyter.widget-view+json": {
              "version_major": 2,
              "version_minor": 0,
              "model_id": "d76565d60b3e45fe9b2503677e59a18c"
            }
          },
          "metadata": {}
        },
        {
          "output_type": "display_data",
          "data": {
            "text/plain": [
              "Downloading:   0%|          | 0.00/478M [00:00<?, ?B/s]"
            ],
            "application/vnd.jupyter.widget-view+json": {
              "version_major": 2,
              "version_minor": 0,
              "model_id": "8c9e870fbd5e4f95a6c318db292d14d2"
            }
          },
          "metadata": {}
        },
        {
          "output_type": "stream",
          "name": "stderr",
          "text": [
            "Some weights of the model checkpoint at roberta-base were not used when initializing RobertaModel: ['lm_head.bias', 'lm_head.decoder.weight', 'lm_head.dense.bias', 'lm_head.dense.weight', 'lm_head.layer_norm.weight', 'lm_head.layer_norm.bias']\n",
            "- This IS expected if you are initializing RobertaModel from the checkpoint of a model trained on another task or with another architecture (e.g. initializing a BertForSequenceClassification model from a BertForPreTraining model).\n",
            "- This IS NOT expected if you are initializing RobertaModel from the checkpoint of a model that you expect to be exactly identical (initializing a BertForSequenceClassification model from a BertForSequenceClassification model).\n"
          ]
        },
        {
          "output_type": "display_data",
          "data": {
            "text/plain": [
              "Downloading:   0%|          | 0.00/878k [00:00<?, ?B/s]"
            ],
            "application/vnd.jupyter.widget-view+json": {
              "version_major": 2,
              "version_minor": 0,
              "model_id": "752908ce47ac49cf8c93a8d77e6bce29"
            }
          },
          "metadata": {}
        },
        {
          "output_type": "display_data",
          "data": {
            "text/plain": [
              "Downloading:   0%|          | 0.00/446k [00:00<?, ?B/s]"
            ],
            "application/vnd.jupyter.widget-view+json": {
              "version_major": 2,
              "version_minor": 0,
              "model_id": "f9532a2290644a148930ce2f52e5dc47"
            }
          },
          "metadata": {}
        }
      ]
    },
    {
      "cell_type": "markdown",
      "source": [
        "### Tokenization"
      ],
      "metadata": {
        "id": "089FKIQQj-ir"
      }
    },
    {
      "cell_type": "code",
      "source": [
        "sample_texts = [\"you won't believe what newtral interviews are like!\", \"we will fine-tune a bert model\"]\n",
        "sample = tokenizer.batch_encode_plus(sample_texts, padding=True, return_token_type_ids=False) # encode text\n",
        "print('Bert tokenization sample:')\n",
        "print(sample)"
      ],
      "metadata": {
        "colab": {
          "base_uri": "https://localhost:8080/"
        },
        "id": "4pf6ZPyHj3Jl",
        "outputId": "17203728-afc3-4e5b-e2fd-c32c3beefdbf"
      },
      "execution_count": null,
      "outputs": [
        {
          "output_type": "stream",
          "name": "stdout",
          "text": [
            "Bert tokenization sample:\n",
            "{'input_ids': [[0, 6968, 351, 75, 679, 99, 92, 90, 7085, 5533, 32, 101, 328, 2], [0, 1694, 40, 2051, 12, 90, 4438, 10, 741, 2399, 1421, 2, 1, 1]], 'attention_mask': [[1, 1, 1, 1, 1, 1, 1, 1, 1, 1, 1, 1, 1, 1], [1, 1, 1, 1, 1, 1, 1, 1, 1, 1, 1, 1, 0, 0]]}\n"
          ]
        }
      ]
    },
    {
      "cell_type": "code",
      "source": [
        "# get length of all the messages in the train set\n",
        "seq_len = [len(str(i).split()) for i in train_text]\n",
        "pd.Series(seq_len).hist(bins = 30)"
      ],
      "metadata": {
        "colab": {
          "base_uri": "https://localhost:8080/",
          "height": 282
        },
        "id": "ODFS--ZDkKQj",
        "outputId": "8f316f5e-cdfd-40ed-aaac-997bfc838089"
      },
      "execution_count": null,
      "outputs": [
        {
          "output_type": "execute_result",
          "data": {
            "text/plain": [
              "<matplotlib.axes._subplots.AxesSubplot at 0x7fe0f1daaf50>"
            ]
          },
          "metadata": {},
          "execution_count": 12
        },
        {
          "output_type": "display_data",
          "data": {
            "text/plain": [
              "<Figure size 432x288 with 1 Axes>"
            ],
            "image/png": "[encoded data removed]"
          },
          "metadata": {
            "needs_background": "light"
          }
        }
      ]
    },
    {
      "cell_type": "markdown",
      "source": [
        "Gracias al grafico anterior nos podemos hacer una idea de la distribución de la lingtud de las entradas en el split de entrenamiento. Esto nos servirá para elegir el valor máximo de la longitud de secuencias."
      ],
      "metadata": {
        "id": "_pF9nxkFkjUx"
      }
    },
    {
      "cell_type": "code",
      "source": [
        "MAX_SEQ_LEN = 15"
      ],
      "metadata": {
        "id": "kM6Zm-0ykiA0"
      },
      "execution_count": null,
      "outputs": []
    },
    {
      "cell_type": "code",
      "source": [
        "# tokenize and encode sequences in the training set\n",
        "tokens_train = tokenizer.batch_encode_plus(\n",
        "    train_text.tolist(),\n",
        "    max_length = MAX_SEQ_LEN,\n",
        "    pad_to_max_length=True,\n",
        "    truncation=True,\n",
        "    return_token_type_ids=False\n",
        ")\n",
        "\n",
        "# tokenize and encode sequences in the validation set\n",
        "tokens_val = tokenizer.batch_encode_plus(\n",
        "    val_text.tolist(),\n",
        "    max_length = MAX_SEQ_LEN,\n",
        "    pad_to_max_length=True,\n",
        "    truncation=True,\n",
        "    return_token_type_ids=False\n",
        ")\n",
        "\n",
        "# tokenize and encode sequences in the test set\n",
        "tokens_test = tokenizer.batch_encode_plus(\n",
        "    test_text.tolist(),\n",
        "    max_length = MAX_SEQ_LEN,\n",
        "    pad_to_max_length=True,\n",
        "    truncation=True,\n",
        "    return_token_type_ids=False\n",
        ")"
      ],
      "metadata": {
        "id": "DxBwdU_Lk5Lk"
      },
      "execution_count": null,
      "outputs": []
    },
    {
      "cell_type": "markdown",
      "source": [
        "### Convert Integer Sequences to Tensors"
      ],
      "metadata": {
        "id": "kC1Zu4qTlFZL"
      }
    },
    {
      "cell_type": "code",
      "source": [
        "# for train set\n",
        "train_seq = torch.tensor(tokens_train['input_ids'])\n",
        "train_mask = torch.tensor(tokens_train['attention_mask'])\n",
        "train_y = torch.tensor(train_labels.tolist())\n",
        "\n",
        "# for validation set\n",
        "val_seq = torch.tensor(tokens_val['input_ids'])\n",
        "val_mask = torch.tensor(tokens_val['attention_mask'])\n",
        "val_y = torch.tensor(val_labels.tolist())\n",
        "\n",
        "# for test set\n",
        "test_seq = torch.tensor(tokens_test['input_ids'])\n",
        "test_mask = torch.tensor(tokens_test['attention_mask'])\n",
        "test_y = torch.tensor(test_labels.tolist())"
      ],
      "metadata": {
        "id": "EmwCX8qblC61"
      },
      "execution_count": null,
      "outputs": []
    },
    {
      "cell_type": "markdown",
      "source": [
        "### Dataloaders"
      ],
      "metadata": {
        "id": "9LUV3ahBlN92"
      }
    },
    {
      "cell_type": "code",
      "source": [
        "#define a batch size\n",
        "batch_size = 4\n",
        "\n",
        "# wrap tensors\n",
        "train_data = TensorDataset(train_seq, train_mask, train_y)\n",
        "\n",
        "# sampler for sampling the data during training\n",
        "train_sampler = RandomSampler(train_data)\n",
        "\n",
        "# dataLoader for train set\n",
        "train_dataloader = DataLoader(train_data, sampler=train_sampler, batch_size=batch_size)\n",
        "\n",
        "# wrap tensors\n",
        "val_data = TensorDataset(val_seq, val_mask, val_y)\n",
        "\n",
        "# sampler for sampling the data during training\n",
        "val_sampler = SequentialSampler(val_data)\n",
        "\n",
        "# dataLoader for validation set\n",
        "val_dataloader = DataLoader(val_data, sampler = val_sampler, batch_size=batch_size)"
      ],
      "metadata": {
        "id": "1o_G7u9qlKb1"
      },
      "execution_count": null,
      "outputs": []
    },
    {
      "cell_type": "code",
      "source": [
        "# freeze all the parameters\n",
        "for param in bert.parameters():\n",
        "    param.requires_grad = False"
      ],
      "metadata": {
        "id": "IKzbXz8ilYkt"
      },
      "execution_count": null,
      "outputs": []
    },
    {
      "cell_type": "markdown",
      "source": [
        "## Model Architecture"
      ],
      "metadata": {
        "id": "tuSdXMh2lpNW"
      }
    },
    {
      "cell_type": "code",
      "source": [
        "class BERT_Arch(nn.Module):\n",
        "\n",
        "    def __init__(self, bert):\n",
        "      super(BERT_Arch, self).__init__()\n",
        "      self.bert = bert \n",
        "      # dropout layer\n",
        "      self.dropout = nn.Dropout(0.1)\n",
        "      # relu activation function\n",
        "      self.relu =  nn.ReLU()\n",
        "      # dense layer 1\n",
        "      self.fc1 = nn.Linear(768,512)\n",
        "      # dense layer 2 (Output layer)\n",
        "      self.fc2 = nn.Linear(512,2)\n",
        "      #softmax activation function\n",
        "      self.softmax = nn.LogSoftmax(dim=1)\n",
        "\n",
        "    #define the forward pass\n",
        "    def forward(self, sent_id, mask):\n",
        "      #pass the inputs to the model\n",
        "    #   _, cls_hs = self.bert(sent_id, attention_mask=mask)\n",
        "      _, cls_hs = self.bert(sent_id, attention_mask=mask, return_dict=False)\n",
        "      x = self.fc1(cls_hs)\n",
        "      x = self.relu(x)\n",
        "      x = self.dropout(x)\n",
        "      # output layer\n",
        "      x = self.fc2(x)\n",
        "      # apply softmax activation\n",
        "      x = self.softmax(x)\n",
        "      return x"
      ],
      "metadata": {
        "id": "qcuDQFJQlfM8"
      },
      "execution_count": null,
      "outputs": []
    },
    {
      "cell_type": "code",
      "source": [
        "# pass the pre-trained BERT to our define architecture\n",
        "model = BERT_Arch(bert)\n",
        "\n",
        "# push the model to GPU\n",
        "model = model.to(device)"
      ],
      "metadata": {
        "id": "zpi1uoKrlt28"
      },
      "execution_count": null,
      "outputs": []
    },
    {
      "cell_type": "code",
      "source": [
        "# adamW optimizer from huggingface\n",
        "# https://huggingface.co/docs/transformers/main_classes/optimizer_schedules#transformers.AdamW\n",
        "from transformers import AdamW\n",
        "\n",
        "# define the optimizer\n",
        "optimizer = AdamW(model.parameters(), lr = 1e-4)"
      ],
      "metadata": {
        "id": "HZHuVDJvlxBU"
      },
      "execution_count": null,
      "outputs": []
    },
    {
      "cell_type": "markdown",
      "source": [
        "### Find Class Weights"
      ],
      "metadata": {
        "id": "BYcL92ppmSpx"
      }
    },
    {
      "cell_type": "code",
      "source": [
        "from sklearn.utils.class_weight import compute_class_weight\n",
        "\n",
        "#compute the class weights\n",
        "class_wts = compute_class_weight(class_weight = 'balanced', classes = np.unique(train_labels), y = train_labels)\n",
        "\n",
        "print(class_wts)"
      ],
      "metadata": {
        "colab": {
          "base_uri": "https://localhost:8080/"
        },
        "id": "u2uys_P1l_FV",
        "outputId": "4a43e650-357c-48a6-9370-12b7232c5e25"
      },
      "execution_count": null,
      "outputs": [
        {
          "output_type": "stream",
          "name": "stdout",
          "text": [
            "[0.65578818 2.10474308]\n"
          ]
        }
      ]
    },
    {
      "cell_type": "code",
      "source": [
        "# convert class weights to tensor\n",
        "weights= torch.tensor(class_wts, dtype=torch.float)\n",
        "weights = weights.to(device)\n",
        "\n",
        "# loss function\n",
        "cross_entropy  = nn.NLLLoss(weight=weights) \n",
        "\n",
        "# number of training epochs\n",
        "epochs = 6"
      ],
      "metadata": {
        "id": "10dMMJ2DmXHL"
      },
      "execution_count": null,
      "outputs": []
    },
    {
      "cell_type": "markdown",
      "source": [
        "## Fine-Tuning"
      ],
      "metadata": {
        "id": "GNxknLoNmjet"
      }
    },
    {
      "cell_type": "code",
      "source": [
        "# function to train the model\n",
        "def train():\n",
        "  \n",
        "  model.train()\n",
        "  total_loss, total_accuracy = 0, 0\n",
        "  \n",
        "  # empty list to save model predictions\n",
        "  total_preds=[]\n",
        "  \n",
        "  # iterate over batches\n",
        "  for step,batch in enumerate(train_dataloader):\n",
        "    \n",
        "    # progress update after every 150 batches.\n",
        "    if step % 150 == 0 and not step == 0:\n",
        "      print('  Batch {:>5,}  of  {:>5,}.'.format(step, len(train_dataloader)))\n",
        "\n",
        "    # push the batch to gpu\n",
        "    batch = [r.to(device) for r in batch]\n",
        "    sent_id, mask, labels = batch\n",
        "\n",
        "    model.zero_grad()\n",
        "    preds = model(sent_id, mask)\n",
        "\n",
        "    # compute the loss between actual and predicted values\n",
        "    loss = cross_entropy(preds, labels)\n",
        "    total_loss = total_loss + loss.item()\n",
        "\n",
        "    # backward pass to calculate the gradients\n",
        "    loss.backward()\n",
        "\n",
        "    # clip the the gradients to 1.0. It helps in preventing the exploding gradient problem\n",
        "    torch.nn.utils.clip_grad_norm_(model.parameters(), 1.0)\n",
        "\n",
        "    optimizer.step()\n",
        "\n",
        "    preds=preds.detach().cpu().numpy()\n",
        "    total_preds.append(preds)\n",
        "\n",
        "  # compute the training loss of the epoch\n",
        "  avg_loss = total_loss / len(train_dataloader)\n",
        "  \n",
        "  # predictions are in the form of (no. of batches, size of batch, no. of classes).\n",
        "  # reshape the predictions in form of (number of samples, no. of classes)\n",
        "  total_preds  = np.concatenate(total_preds, axis=0)\n",
        "\n",
        "  #returns the loss and predictions\n",
        "  return avg_loss, total_preds"
      ],
      "metadata": {
        "id": "43bFZ2zHmZpt"
      },
      "execution_count": null,
      "outputs": []
    },
    {
      "cell_type": "code",
      "source": [
        "# function for evaluating the model\n",
        "def evaluate():\n",
        "  \n",
        "  print(\"\\nEvaluating...\")\n",
        "  \n",
        "  # deactivate dropout layers\n",
        "  model.eval()\n",
        "\n",
        "  total_loss, total_accuracy = 0, 0\n",
        "  \n",
        "  # empty list to save the model predictions\n",
        "  total_preds = []\n",
        "\n",
        "  # iterate over batches\n",
        "  for step,batch in enumerate(val_dataloader):\n",
        "    \n",
        "    # Progress update every 150 batches.\n",
        "    if step % 150 == 0 and not step == 0:\n",
        "      \n",
        "      # Calculate elapsed time in minutes.\n",
        "    #   elapsed = format_time(time.time() - t0)\n",
        "            \n",
        "      # Report progress.\n",
        "      print('  Batch {:>5,}  of  {:>5,}.'.format(step, len(val_dataloader)))\n",
        "\n",
        "    # push the batch to gpu\n",
        "    batch = [t.to(device) for t in batch]\n",
        "\n",
        "    sent_id, mask, labels = batch\n",
        "\n",
        "    # deactivate autograd\n",
        "    with torch.no_grad():\n",
        "      \n",
        "      # model predictions\n",
        "      preds = model(sent_id, mask)\n",
        "\n",
        "      # compute the validation loss between actual and predicted values\n",
        "      loss = cross_entropy(preds,labels)\n",
        "\n",
        "      total_loss = total_loss + loss.item()\n",
        "\n",
        "      preds = preds.detach().cpu().numpy()\n",
        "\n",
        "      total_preds.append(preds)\n",
        "\n",
        "  # compute the validation loss of the epoch\n",
        "  avg_loss = total_loss / len(val_dataloader) \n",
        "\n",
        "  # reshape the predictions in form of (number of samples, no. of classes)\n",
        "  total_preds  = np.concatenate(total_preds, axis=0)\n",
        "\n",
        "  return avg_loss, total_preds"
      ],
      "metadata": {
        "id": "JJ4WtP2FmwJw"
      },
      "execution_count": null,
      "outputs": []
    },
    {
      "cell_type": "markdown",
      "source": [
        "## Model training"
      ],
      "metadata": {
        "id": "RSI6yliFmygf"
      }
    },
    {
      "cell_type": "code",
      "source": [
        "# set initial loss to infinite\n",
        "best_valid_loss = float('inf')\n",
        "\n",
        "# empty lists to store training and validation loss of each epoch\n",
        "train_losses=[]\n",
        "valid_losses=[]\n",
        "\n",
        "#for each epoch\n",
        "for epoch in range(epochs):\n",
        "     \n",
        "    print('\\n Epoch {:} / {:}'.format(epoch + 1, epochs))\n",
        "    \n",
        "    #train model\n",
        "    train_loss, _ = train()\n",
        "    \n",
        "    #evaluate model\n",
        "    valid_loss, _ = evaluate()\n",
        "    \n",
        "    #save the best model\n",
        "    if valid_loss < best_valid_loss:\n",
        "        best_valid_loss = valid_loss\n",
        "        torch.save(model.state_dict(), 'saved_weights.pt')\n",
        "    \n",
        "    # append training and validation loss\n",
        "    train_losses.append(train_loss)\n",
        "    valid_losses.append(valid_loss)\n",
        "    \n",
        "    print(f'\\nTraining Loss: {train_loss:.3f}')\n",
        "    print(f'Validation Loss: {valid_loss:.3f}')"
      ],
      "metadata": {
        "id": "6eCvFs55m0-M",
        "colab": {
          "base_uri": "https://localhost:8080/"
        },
        "outputId": "4205dc7e-0d3a-4789-b1c1-a9e74d67af59"
      },
      "execution_count": null,
      "outputs": [
        {
          "output_type": "stream",
          "name": "stdout",
          "text": [
            "\n",
            " Epoch 1 / 6\n",
            "  Batch   150  of  3,195.\n",
            "  Batch   300  of  3,195.\n",
            "  Batch   450  of  3,195.\n",
            "  Batch   600  of  3,195.\n",
            "  Batch   750  of  3,195.\n",
            "  Batch   900  of  3,195.\n",
            "  Batch 1,050  of  3,195.\n",
            "  Batch 1,200  of  3,195.\n",
            "  Batch 1,350  of  3,195.\n",
            "  Batch 1,500  of  3,195.\n",
            "  Batch 1,650  of  3,195.\n",
            "  Batch 1,800  of  3,195.\n",
            "  Batch 1,950  of  3,195.\n",
            "  Batch 2,100  of  3,195.\n",
            "  Batch 2,250  of  3,195.\n",
            "  Batch 2,400  of  3,195.\n",
            "  Batch 2,550  of  3,195.\n",
            "  Batch 2,700  of  3,195.\n",
            "  Batch 2,850  of  3,195.\n",
            "  Batch 3,000  of  3,195.\n",
            "  Batch 3,150  of  3,195.\n",
            "\n",
            "Evaluating...\n",
            "  Batch   150  of  1,574.\n",
            "  Batch   300  of  1,574.\n",
            "  Batch   450  of  1,574.\n",
            "  Batch   600  of  1,574.\n",
            "  Batch   750  of  1,574.\n",
            "  Batch   900  of  1,574.\n",
            "  Batch 1,050  of  1,574.\n",
            "  Batch 1,200  of  1,574.\n",
            "  Batch 1,350  of  1,574.\n",
            "  Batch 1,500  of  1,574.\n",
            "\n",
            "Training Loss: 0.680\n",
            "Validation Loss: 0.664\n",
            "\n",
            " Epoch 2 / 6\n",
            "  Batch   150  of  3,195.\n",
            "  Batch   300  of  3,195.\n",
            "  Batch   450  of  3,195.\n",
            "  Batch   600  of  3,195.\n",
            "  Batch   750  of  3,195.\n",
            "  Batch   900  of  3,195.\n",
            "  Batch 1,050  of  3,195.\n",
            "  Batch 1,200  of  3,195.\n",
            "  Batch 1,350  of  3,195.\n",
            "  Batch 1,500  of  3,195.\n",
            "  Batch 1,650  of  3,195.\n",
            "  Batch 1,800  of  3,195.\n",
            "  Batch 1,950  of  3,195.\n",
            "  Batch 2,100  of  3,195.\n",
            "  Batch 2,250  of  3,195.\n",
            "  Batch 2,400  of  3,195.\n",
            "  Batch 2,550  of  3,195.\n",
            "  Batch 2,700  of  3,195.\n",
            "  Batch 2,850  of  3,195.\n",
            "  Batch 3,000  of  3,195.\n",
            "  Batch 3,150  of  3,195.\n",
            "\n",
            "Evaluating...\n",
            "  Batch   150  of  1,574.\n",
            "  Batch   300  of  1,574.\n",
            "  Batch   450  of  1,574.\n",
            "  Batch   600  of  1,574.\n",
            "  Batch   750  of  1,574.\n",
            "  Batch   900  of  1,574.\n",
            "  Batch 1,050  of  1,574.\n",
            "  Batch 1,200  of  1,574.\n",
            "  Batch 1,350  of  1,574.\n",
            "  Batch 1,500  of  1,574.\n",
            "\n",
            "Training Loss: 0.673\n",
            "Validation Loss: 0.694\n",
            "\n",
            " Epoch 3 / 6\n",
            "  Batch   150  of  3,195.\n",
            "  Batch   300  of  3,195.\n",
            "  Batch   450  of  3,195.\n",
            "  Batch   600  of  3,195.\n",
            "  Batch   750  of  3,195.\n",
            "  Batch   900  of  3,195.\n",
            "  Batch 1,050  of  3,195.\n",
            "  Batch 1,200  of  3,195.\n",
            "  Batch 1,350  of  3,195.\n",
            "  Batch 1,500  of  3,195.\n",
            "  Batch 1,650  of  3,195.\n",
            "  Batch 1,800  of  3,195.\n",
            "  Batch 1,950  of  3,195.\n",
            "  Batch 2,100  of  3,195.\n",
            "  Batch 2,250  of  3,195.\n",
            "  Batch 2,400  of  3,195.\n",
            "  Batch 2,550  of  3,195.\n",
            "  Batch 2,700  of  3,195.\n",
            "  Batch 2,850  of  3,195.\n",
            "  Batch 3,000  of  3,195.\n",
            "  Batch 3,150  of  3,195.\n",
            "\n",
            "Evaluating...\n",
            "  Batch   150  of  1,574.\n",
            "  Batch   300  of  1,574.\n",
            "  Batch   450  of  1,574.\n",
            "  Batch   600  of  1,574.\n",
            "  Batch   750  of  1,574.\n",
            "  Batch   900  of  1,574.\n",
            "  Batch 1,050  of  1,574.\n",
            "  Batch 1,200  of  1,574.\n",
            "  Batch 1,350  of  1,574.\n",
            "  Batch 1,500  of  1,574.\n",
            "\n",
            "Training Loss: 0.647\n",
            "Validation Loss: 0.627\n",
            "\n",
            " Epoch 4 / 6\n",
            "  Batch   150  of  3,195.\n",
            "  Batch   300  of  3,195.\n",
            "  Batch   450  of  3,195.\n",
            "  Batch   600  of  3,195.\n",
            "  Batch   750  of  3,195.\n",
            "  Batch   900  of  3,195.\n",
            "  Batch 1,050  of  3,195.\n",
            "  Batch 1,200  of  3,195.\n",
            "  Batch 1,350  of  3,195.\n",
            "  Batch 1,500  of  3,195.\n",
            "  Batch 1,650  of  3,195.\n",
            "  Batch 1,800  of  3,195.\n",
            "  Batch 1,950  of  3,195.\n",
            "  Batch 2,100  of  3,195.\n",
            "  Batch 2,250  of  3,195.\n",
            "  Batch 2,400  of  3,195.\n",
            "  Batch 2,550  of  3,195.\n",
            "  Batch 2,700  of  3,195.\n",
            "  Batch 2,850  of  3,195.\n",
            "  Batch 3,000  of  3,195.\n",
            "  Batch 3,150  of  3,195.\n",
            "\n",
            "Evaluating...\n",
            "  Batch   150  of  1,574.\n",
            "  Batch   300  of  1,574.\n",
            "  Batch   450  of  1,574.\n",
            "  Batch   600  of  1,574.\n",
            "  Batch   750  of  1,574.\n",
            "  Batch   900  of  1,574.\n",
            "  Batch 1,050  of  1,574.\n",
            "  Batch 1,200  of  1,574.\n",
            "  Batch 1,350  of  1,574.\n",
            "  Batch 1,500  of  1,574.\n",
            "\n",
            "Training Loss: 0.625\n",
            "Validation Loss: 0.570\n",
            "\n",
            " Epoch 5 / 6\n",
            "  Batch   150  of  3,195.\n",
            "  Batch   300  of  3,195.\n",
            "  Batch   450  of  3,195.\n",
            "  Batch   600  of  3,195.\n",
            "  Batch   750  of  3,195.\n",
            "  Batch   900  of  3,195.\n",
            "  Batch 1,050  of  3,195.\n",
            "  Batch 1,200  of  3,195.\n",
            "  Batch 1,350  of  3,195.\n",
            "  Batch 1,500  of  3,195.\n",
            "  Batch 1,650  of  3,195.\n",
            "  Batch 1,800  of  3,195.\n",
            "  Batch 1,950  of  3,195.\n",
            "  Batch 2,100  of  3,195.\n",
            "  Batch 2,250  of  3,195.\n",
            "  Batch 2,400  of  3,195.\n",
            "  Batch 2,550  of  3,195.\n",
            "  Batch 2,700  of  3,195.\n",
            "  Batch 2,850  of  3,195.\n",
            "  Batch 3,000  of  3,195.\n",
            "  Batch 3,150  of  3,195.\n",
            "\n",
            "Evaluating...\n",
            "  Batch   150  of  1,574.\n",
            "  Batch   300  of  1,574.\n",
            "  Batch   450  of  1,574.\n",
            "  Batch   600  of  1,574.\n",
            "  Batch   750  of  1,574.\n",
            "  Batch   900  of  1,574.\n",
            "  Batch 1,050  of  1,574.\n",
            "  Batch 1,200  of  1,574.\n",
            "  Batch 1,350  of  1,574.\n",
            "  Batch 1,500  of  1,574.\n",
            "\n",
            "Training Loss: 0.606\n",
            "Validation Loss: 0.545\n",
            "\n",
            " Epoch 6 / 6\n",
            "  Batch   150  of  3,195.\n",
            "  Batch   300  of  3,195.\n",
            "  Batch   450  of  3,195.\n",
            "  Batch   600  of  3,195.\n",
            "  Batch   750  of  3,195.\n",
            "  Batch   900  of  3,195.\n",
            "  Batch 1,050  of  3,195.\n",
            "  Batch 1,200  of  3,195.\n",
            "  Batch 1,350  of  3,195.\n",
            "  Batch 1,500  of  3,195.\n",
            "  Batch 1,650  of  3,195.\n",
            "  Batch 1,800  of  3,195.\n",
            "  Batch 1,950  of  3,195.\n",
            "  Batch 2,100  of  3,195.\n",
            "  Batch 2,250  of  3,195.\n",
            "  Batch 2,400  of  3,195.\n",
            "  Batch 2,550  of  3,195.\n",
            "  Batch 2,700  of  3,195.\n",
            "  Batch 2,850  of  3,195.\n",
            "  Batch 3,000  of  3,195.\n",
            "  Batch 3,150  of  3,195.\n",
            "\n",
            "Evaluating...\n",
            "  Batch   150  of  1,574.\n",
            "  Batch   300  of  1,574.\n",
            "  Batch   450  of  1,574.\n",
            "  Batch   600  of  1,574.\n",
            "  Batch   750  of  1,574.\n",
            "  Batch   900  of  1,574.\n",
            "  Batch 1,050  of  1,574.\n",
            "  Batch 1,200  of  1,574.\n",
            "  Batch 1,350  of  1,574.\n",
            "  Batch 1,500  of  1,574.\n",
            "\n",
            "Training Loss: 0.599\n",
            "Validation Loss: 0.522\n"
          ]
        }
      ]
    },
    {
      "cell_type": "code",
      "source": [
        "#load weights of best model\n",
        "path = 'saved_weights.pt'\n",
        "model.load_state_dict(torch.load(path))"
      ],
      "metadata": {
        "id": "6g7zwHNJnDV9",
        "colab": {
          "base_uri": "https://localhost:8080/"
        },
        "outputId": "a7acdbab-e840-4dfa-d8e7-7aabddc66828"
      },
      "execution_count": null,
      "outputs": [
        {
          "output_type": "execute_result",
          "data": {
            "text/plain": [
              "<All keys matched successfully>"
            ]
          },
          "metadata": {},
          "execution_count": 27
        }
      ]
    },
    {
      "cell_type": "markdown",
      "source": [
        "#### Descripción del modelo\n",
        "\n",
        "El modelo utilizado ha sido [**RoBERTa**](https://huggingface.co/docs/transformers/model_doc/roberta), modelo basado en BERT que modifica los hiperparámetros clave y comparte su implementación y arquitectura.\n",
        "\n",
        "Parámetros utilizados:\n",
        "\n",
        "*   **Batch size**: 8 — Se ha decidido usar un número reducido para paliar un problema de memoria CUDA en Google Colab. El modelo se habría visto beneficiado de un Batch size mayor ya que para cada segmento utilizaría mas casos.\n",
        "*   **Number of epochs**: 6 — Número reducido de epochs por la misma razón anterior: Tratar de usar menos memoria de la GPU. En el propio log del entrenamiento del modelo se puede ver claramente cómo el training y validation loss sigue disminuyendo. El modelo se vería beneficiado por un mayor número de epochs.\n",
        "*   **Learning rate**: 1e-4 — Valor habitual para este tipo de modelos.\n",
        "*   **Optimizador**: AdamW — Implementación alternativa del algoritmo Adam ([huggingface](https://huggingface.co/docs/transformers/main_classes/optimizer_schedules#transformers.AdamW))\n",
        "\n"
      ],
      "metadata": {
        "id": "63AuXrkxqIpF"
      }
    },
    {
      "cell_type": "markdown",
      "source": [
        "## Get Predictions for Test Data"
      ],
      "metadata": {
        "id": "pMRTGny8nFTB"
      }
    },
    {
      "cell_type": "code",
      "source": [
        "torch.cuda.empty_cache()"
      ],
      "metadata": {
        "id": "Cu97-0jHmMg3"
      },
      "execution_count": null,
      "outputs": []
    },
    {
      "cell_type": "code",
      "source": [
        "with torch.no_grad():\n",
        "  preds = model(test_seq.to(device), test_mask.to(device))\n",
        "  preds = preds.detach().cpu().numpy()"
      ],
      "metadata": {
        "id": "enDUtNOKnHM9"
      },
      "execution_count": null,
      "outputs": []
    },
    {
      "cell_type": "code",
      "source": [
        "from sklearn.metrics import classification_report\n",
        "preds = np.argmax(preds, axis = 1)\n",
        "print(classification_report(test_y, preds))"
      ],
      "metadata": {
        "id": "eDf6Ue6anJLx",
        "colab": {
          "base_uri": "https://localhost:8080/"
        },
        "outputId": "57081e66-5b70-4ca3-bc2f-53fa93a6c70f"
      },
      "execution_count": null,
      "outputs": [
        {
          "output_type": "stream",
          "name": "stdout",
          "text": [
            "              precision    recall  f1-score   support\n",
            "\n",
            "           0       0.86      0.93      0.89     14228\n",
            "           1       0.68      0.48      0.56      4298\n",
            "\n",
            "    accuracy                           0.83     18526\n",
            "   macro avg       0.77      0.71      0.73     18526\n",
            "weighted avg       0.82      0.83      0.82     18526\n",
            "\n"
          ]
        }
      ]
    },
    {
      "cell_type": "code",
      "source": [
        "cm = confusion_matrix(test_y, preds)\n",
        "plt.figure()\n",
        "plot_confusion_matrix(cm, figsize=(12,8), hide_ticks=True, cmap=plt.cm.Blues)\n",
        "plt.xticks(range(2), ['Not clickbait', 'Clickbait'], fontsize=16)\n",
        "plt.yticks(range(2), ['Not clickbait', 'Clickbait'], fontsize=16)\n",
        "plt.show()"
      ],
      "metadata": {
        "colab": {
          "base_uri": "https://localhost:8080/",
          "height": 519
        },
        "id": "L5_3i0V92WWb",
        "outputId": "92804805-6a44-4d81-82ac-0a1ae8fa1b3f"
      },
      "execution_count": null,
      "outputs": [
        {
          "output_type": "display_data",
          "data": {
            "text/plain": [
              "<Figure size 432x288 with 0 Axes>"
            ]
          },
          "metadata": {}
        },
        {
          "output_type": "display_data",
          "data": {
            "text/plain": [
              "<Figure size 864x576 with 1 Axes>"
            ],
            "image/png": "[encoded data removed]"
          },
          "metadata": {
            "needs_background": "light"
          }
        }
      ]
    },
    {
      "cell_type": "markdown",
      "source": [
        "#### Interpretación de los resultados\n",
        "\n",
        "En primer lugar podemos ver como **la precisión alcanza un 83%**, sin embargo ya se ha comentado que esta métrica no es la mas adecuada para un conjunto de datos tan desbalanceado. Comparándolo con la *baselines* propuestas y teniendo en cuenta que el modelo ha sido creado y entrenado con algunos parámetros lejanos a los ideales para tratar de ajustarse a la memoria CUDA de la GPU, el resultado es **el mejor de todos los evaluados**.\n",
        "\n",
        "En este sentido, como métrica mas adecuada para este caso, tenemos el valor-F o *f1-score*. Esta métrica sale de combinar la precisión y el *recall* en un solo valor.\n",
        "\n",
        "Por otro lado, y de forma más gráfica, en la matriz de confusión mostrada más arriba podemos identificar el número de casos clasificados correctamente y el número de falsos positivos y falsos negativos.\n",
        "\n",
        "Tal y como era esperado, el mayor número de predicciones correctas se encuentran en los casos etiquetados como 'No-Clickbait' (13264). Junto con el alto número de falsos negativos (2235), esto nos indica que el modelo tiende a etiquetar los inputs como 'No-Clickbait'. Esto ya hemos visto que pasaba en el baseline propuesto basado en la red recurrente LSTM, auque en este caso de forma menos agresiva.\n",
        "\n",
        "Para los textos cuyas predicciones han resultado ser 'Clickbait', tenemos que 2063 han sido de forma correcta y 964 han sido falsos positivos.\n",
        "\n",
        "En el apartado siguiente se tratará de analizar ambos tipos de errores."
      ],
      "metadata": {
        "id": "GmLE7H6dnVCf"
      }
    },
    {
      "cell_type": "markdown",
      "source": [
        "--- \n",
        "# Análisis de errores"
      ],
      "metadata": {
        "id": "oXtmnIYEnVGi"
      }
    },
    {
      "cell_type": "code",
      "source": [
        "test_df = test_data.copy()"
      ],
      "metadata": {
        "id": "kNv8M2vcJlng"
      },
      "execution_count": null,
      "outputs": []
    },
    {
      "cell_type": "code",
      "source": [
        "test_df['pred'] = preds"
      ],
      "metadata": {
        "id": "Gzz42PNeJyd5"
      },
      "execution_count": null,
      "outputs": []
    },
    {
      "cell_type": "code",
      "source": [
        "test_df"
      ],
      "metadata": {
        "colab": {
          "base_uri": "https://localhost:8080/",
          "height": 424
        },
        "id": "R5vc1PaxJy1J",
        "outputId": "872d8f83-03de-4cb9-dd1d-d3cd0bd42393"
      },
      "execution_count": null,
      "outputs": [
        {
          "output_type": "execute_result",
          "data": {
            "text/plain": [
              "                                                postText  truthClass  \\\n",
              "0      Johnny Manziel on Browns' No. 1 pick Myles Gar...           0   \n",
              "1      Fabio: California Is a 'Mess' Because of Liber...           0   \n",
              "2                \"He's been huge for us this year, man.\"           1   \n",
              "3      New Bears quarterback Mitchell Trubisky was gr...           0   \n",
              "4      It's not enough to let employees work flexible...           0   \n",
              "...                                                  ...         ...   \n",
              "18974  Whitney Tilson on Trump's supporters: 'I think...           0   \n",
              "18975  The McDonald’s franchisee who created the Big ...           0   \n",
              "18976  Colombian Congress passes second #FARC peace d...           0   \n",
              "18977  Australian startups need more diversity to thr...           0   \n",
              "18978  35 gifts for the wanderlust-obsessed person in...           1   \n",
              "\n",
              "                                                    text  pred  \n",
              "0      johnny manziel on browns' no. 1 pick myles gar...     0  \n",
              "1      fabio: california is a 'mess' because of liber...     0  \n",
              "2                \"he's been huge for us this year, man.\"     0  \n",
              "3      new bears quarterback mitchell trubisky was gr...     0  \n",
              "4      it's not enough to let employees work flexible...     1  \n",
              "...                                                  ...   ...  \n",
              "18974  whitney tilson on trump's supporters: 'i think...     0  \n",
              "18975  the mcdonald’s franchisee who created the big ...     0  \n",
              "18976  colombian congress passes second #farc peace d...     0  \n",
              "18977  australian startups need more diversity to thr...     0  \n",
              "18978  35 gifts for the wanderlust-obsessed person in...     1  \n",
              "\n",
              "[18526 rows x 4 columns]"
            ],
            "text/html": [
              "\n",
              "  <div id=\"df-cd51dfd3-9fcb-45d3-91fe-383c7f4b566e\">\n",
              "    <div class=\"colab-df-container\">\n",
              "      <div>\n",
              "<style scoped>\n",
              "    .dataframe tbody tr th:only-of-type {\n",
              "        vertical-align: middle;\n",
              "    }\n",
              "\n",
              "    .dataframe tbody tr th {\n",
              "        vertical-align: top;\n",
              "    }\n",
              "\n",
              "    .dataframe thead th {\n",
              "        text-align: right;\n",
              "    }\n",
              "</style>\n",
              "<table border=\"1\" class=\"dataframe\">\n",
              "  <thead>\n",
              "    <tr style=\"text-align: right;\">\n",
              "      <th></th>\n",
              "      <th>postText</th>\n",
              "      <th>truthClass</th>\n",
              "      <th>text</th>\n",
              "      <th>pred</th>\n",
              "    </tr>\n",
              "  </thead>\n",
              "  <tbody>\n",
              "    <tr>\n",
              "      <th>0</th>\n",
              "      <td>Johnny Manziel on Browns' No. 1 pick Myles Gar...</td>\n",
              "      <td>0</td>\n",
              "      <td>johnny manziel on browns' no. 1 pick myles gar...</td>\n",
              "      <td>0</td>\n",
              "    </tr>\n",
              "    <tr>\n",
              "      <th>1</th>\n",
              "      <td>Fabio: California Is a 'Mess' Because of Liber...</td>\n",
              "      <td>0</td>\n",
              "      <td>fabio: california is a 'mess' because of liber...</td>\n",
              "      <td>0</td>\n",
              "    </tr>\n",
              "    <tr>\n",
              "      <th>2</th>\n",
              "      <td>\"He's been huge for us this year, man.\"</td>\n",
              "      <td>1</td>\n",
              "      <td>\"he's been huge for us this year, man.\"</td>\n",
              "      <td>0</td>\n",
              "    </tr>\n",
              "    <tr>\n",
              "      <th>3</th>\n",
              "      <td>New Bears quarterback Mitchell Trubisky was gr...</td>\n",
              "      <td>0</td>\n",
              "      <td>new bears quarterback mitchell trubisky was gr...</td>\n",
              "      <td>0</td>\n",
              "    </tr>\n",
              "    <tr>\n",
              "      <th>4</th>\n",
              "      <td>It's not enough to let employees work flexible...</td>\n",
              "      <td>0</td>\n",
              "      <td>it's not enough to let employees work flexible...</td>\n",
              "      <td>1</td>\n",
              "    </tr>\n",
              "    <tr>\n",
              "      <th>...</th>\n",
              "      <td>...</td>\n",
              "      <td>...</td>\n",
              "      <td>...</td>\n",
              "      <td>...</td>\n",
              "    </tr>\n",
              "    <tr>\n",
              "      <th>18974</th>\n",
              "      <td>Whitney Tilson on Trump's supporters: 'I think...</td>\n",
              "      <td>0</td>\n",
              "      <td>whitney tilson on trump's supporters: 'i think...</td>\n",
              "      <td>0</td>\n",
              "    </tr>\n",
              "    <tr>\n",
              "      <th>18975</th>\n",
              "      <td>The McDonald’s franchisee who created the Big ...</td>\n",
              "      <td>0</td>\n",
              "      <td>the mcdonald’s franchisee who created the big ...</td>\n",
              "      <td>0</td>\n",
              "    </tr>\n",
              "    <tr>\n",
              "      <th>18976</th>\n",
              "      <td>Colombian Congress passes second #FARC peace d...</td>\n",
              "      <td>0</td>\n",
              "      <td>colombian congress passes second #farc peace d...</td>\n",
              "      <td>0</td>\n",
              "    </tr>\n",
              "    <tr>\n",
              "      <th>18977</th>\n",
              "      <td>Australian startups need more diversity to thr...</td>\n",
              "      <td>0</td>\n",
              "      <td>australian startups need more diversity to thr...</td>\n",
              "      <td>0</td>\n",
              "    </tr>\n",
              "    <tr>\n",
              "      <th>18978</th>\n",
              "      <td>35 gifts for the wanderlust-obsessed person in...</td>\n",
              "      <td>1</td>\n",
              "      <td>35 gifts for the wanderlust-obsessed person in...</td>\n",
              "      <td>1</td>\n",
              "    </tr>\n",
              "  </tbody>\n",
              "</table>\n",
              "<p>18526 rows × 4 columns</p>\n",
              "</div>\n",
              "      <button class=\"colab-df-convert\" onclick=\"convertToInteractive('df-cd51dfd3-9fcb-45d3-91fe-383c7f4b566e')\"\n",
              "              title=\"Convert this dataframe to an interactive table.\"\n",
              "              style=\"display:none;\">\n",
              "        \n",
              "  <svg xmlns=\"http://www.w3.org/2000/svg\" height=\"24px\"viewBox=\"0 0 24 24\"\n",
              "       width=\"24px\">\n",
              "    <path d=\"M0 0h24v24H0V0z\" fill=\"none\"/>\n",
              "    <path d=\"M18.56 5.44l.94 2.06.94-2.06 2.06-.94-2.06-.94-.94-2.06-.94 2.06-2.06.94zm-11 1L8.5 8.5l.94-2.06 2.06-.94-2.06-.94L8.5 2.5l-.94 2.06-2.06.94zm10 10l.94 2.06.94-2.06 2.06-.94-2.06-.94-.94-2.06-.94 2.06-2.06.94z\"/><path d=\"M17.41 7.96l-1.37-1.37c-.4-.4-.92-.59-1.43-.59-.52 0-1.04.2-1.43.59L10.3 9.45l-7.72 7.72c-.78.78-.78 2.05 0 2.83L4 21.41c.39.39.9.59 1.41.59.51 0 1.02-.2 1.41-.59l7.78-7.78 2.81-2.81c.8-.78.8-2.07 0-2.86zM5.41 20L4 18.59l7.72-7.72 1.47 1.35L5.41 20z\"/>\n",
              "  </svg>\n",
              "      </button>\n",
              "      \n",
              "  <style>\n",
              "    .colab-df-container {\n",
              "      display:flex;\n",
              "      flex-wrap:wrap;\n",
              "      gap: 12px;\n",
              "    }\n",
              "\n",
              "    .colab-df-convert {\n",
              "      background-color: #E8F0FE;\n",
              "      border: none;\n",
              "      border-radius: 50%;\n",
              "      cursor: pointer;\n",
              "      display: none;\n",
              "      fill: #1967D2;\n",
              "      height: 32px;\n",
              "      padding: 0 0 0 0;\n",
              "      width: 32px;\n",
              "    }\n",
              "\n",
              "    .colab-df-convert:hover {\n",
              "      background-color: #E2EBFA;\n",
              "      box-shadow: 0px 1px 2px rgba(60, 64, 67, 0.3), 0px 1px 3px 1px rgba(60, 64, 67, 0.15);\n",
              "      fill: #174EA6;\n",
              "    }\n",
              "\n",
              "    [theme=dark] .colab-df-convert {\n",
              "      background-color: #3B4455;\n",
              "      fill: #D2E3FC;\n",
              "    }\n",
              "\n",
              "    [theme=dark] .colab-df-convert:hover {\n",
              "      background-color: #434B5C;\n",
              "      box-shadow: 0px 1px 3px 1px rgba(0, 0, 0, 0.15);\n",
              "      filter: drop-shadow(0px 1px 2px rgba(0, 0, 0, 0.3));\n",
              "      fill: #FFFFFF;\n",
              "    }\n",
              "  </style>\n",
              "\n",
              "      <script>\n",
              "        const buttonEl =\n",
              "          document.querySelector('#df-cd51dfd3-9fcb-45d3-91fe-383c7f4b566e button.colab-df-convert');\n",
              "        buttonEl.style.display =\n",
              "          google.colab.kernel.accessAllowed ? 'block' : 'none';\n",
              "\n",
              "        async function convertToInteractive(key) {\n",
              "          const element = document.querySelector('#df-cd51dfd3-9fcb-45d3-91fe-383c7f4b566e');\n",
              "          const dataTable =\n",
              "            await google.colab.kernel.invokeFunction('convertToInteractive',\n",
              "                                                     [key], {});\n",
              "          if (!dataTable) return;\n",
              "\n",
              "          const docLinkHtml = 'Like what you see? Visit the ' +\n",
              "            '<a target=\"_blank\" href=https://colab.research.google.com/notebooks/data_table.ipynb>data table notebook</a>'\n",
              "            + ' to learn more about interactive tables.';\n",
              "          element.innerHTML = '';\n",
              "          dataTable['output_type'] = 'display_data';\n",
              "          await google.colab.output.renderOutput(dataTable, element);\n",
              "          const docLink = document.createElement('div');\n",
              "          docLink.innerHTML = docLinkHtml;\n",
              "          element.appendChild(docLink);\n",
              "        }\n",
              "      </script>\n",
              "    </div>\n",
              "  </div>\n",
              "  "
            ]
          },
          "metadata": {},
          "execution_count": 46
        }
      ]
    },
    {
      "cell_type": "code",
      "source": [
        "false_positives = test_df[((test_df['truthClass'] == 0) & (test_df['pred'] == 1))]\n",
        "false_negatives = test_df[((test_df['truthClass'] == 1) & (test_df['pred'] == 0))]"
      ],
      "metadata": {
        "id": "M2uo3NTwKrRB"
      },
      "execution_count": null,
      "outputs": []
    },
    {
      "cell_type": "code",
      "source": [
        "# print 5 random false positive entries:\n",
        "for i in false_positives[['postText']].sample(5).values:\n",
        "    print(i[0])"
      ],
      "metadata": {
        "colab": {
          "base_uri": "https://localhost:8080/"
        },
        "id": "CxxR4AoELCMx",
        "outputId": "e073f6f0-4ece-4a54-a96c-c3223939de1d"
      },
      "execution_count": null,
      "outputs": [
        {
          "output_type": "stream",
          "name": "stdout",
          "text": [
            "\"Be all you can be. Be fearless my child, be free.\" - @FarOutAkhtar\n",
            "This map shows the huge surge in \"deaths of despair\" since the year 2000\n",
            "How sudden drop in temperature makes you sick\n",
            "Get ready for pre-roll ads on Periscope\n",
            "\"No one is going to pay you what you deserve if you don’t believe in your value.\"\n"
          ]
        }
      ]
    },
    {
      "cell_type": "markdown",
      "source": [
        "En cuanto a los **falsos positivos**, es decir, textos que el modelo ha clasificado como 'Clickbait' pero que estaban etiquetadas como 'No Clickbait', me parece identificar los siguientes patrones:\n",
        "\n",
        "*   Textos con citas entre comillas\n",
        "*   Frases escritas en imperativo\n",
        "*   Frases que están formuladas como una pregunta sin serlo\n",
        "\n",
        "Sin contexto, creo que algunas de estas frases podrían ser mal clasificadas incluso por una persona. Por lo tanto la conclusión al evaluar este tipo de errores es que el modelo podría beneficiarse de otros inputs que puedan ofrecer más contexto como podrían ser títulos, keywords o resúmenes de los artículos a los que se refiere el tweet.\n",
        "\n",
        "\n",
        "\n"
      ],
      "metadata": {
        "id": "lrgJ02bIlj6U"
      }
    },
    {
      "cell_type": "code",
      "source": [
        "# print 5 random false negative entries:\n",
        "for i in false_negatives[['postText']].sample(5).values:\n",
        "    print(i[0])"
      ],
      "metadata": {
        "colab": {
          "base_uri": "https://localhost:8080/"
        },
        "id": "uUje4O66LtgV",
        "outputId": "d120422d-eac1-4617-bef1-823d9c933aa7"
      },
      "execution_count": null,
      "outputs": [
        {
          "output_type": "stream",
          "name": "stdout",
          "text": [
            "The secret of Namibia's 'fairy circles' may be explained at last\n",
            "Hamara Bajaj... #Nostalgia\n",
            "The victim was asked to 'fulfil her duty as a wife'#Shameful\n",
            "100 years of French beauty in just two minutes\n",
            "Bernice King has a powerful message for Pepsi\n"
          ]
        }
      ]
    },
    {
      "cell_type": "markdown",
      "source": [
        "Por otro lado, respecto a los falsos negativos (textos clasificados como 'No-Clickbait' que originalmente estaban etiquetdos como 'Clickbait') se me ocurren los siguientes posibles patrones:\n",
        "\n",
        "*   Como en los falsos negativos, el uso de comillas dentro del texto\n",
        "*   El uso de #Hashtags\n",
        "\n",
        "En estos casos concretos, me parece que manualmente si podría ser posible identificarlos como Clickbait con mayor facilidad. Sin embargo, no me es posible explicar fácilmente el por qué.\n",
        "\n",
        "Está claro que un clickbait habla de 'algo' sin explicar la parte que incita curiosidad, pero en los casos propuestos se hace dificil diferenciar este comportamiento.\n",
        "\n",
        "En definitiva, y de la misma forma que para los falsos negativos, el contexto podría ayudar ya que según el tema tratado será más facil caer en el clickbait o no. Por ejemplo temas mas propicios a generar clickbaits serían la política o cotilleos, y por otro lado temas como noticias científicas, tecnología o historia son, en mi opinión, menos sugerentes en este sentido.\n"
      ],
      "metadata": {
        "id": "pXaO2q0EnikN"
      }
    },
    {
      "cell_type": "code",
      "source": [
        ""
      ],
      "metadata": {
        "id": "ttQYYR7CNwYZ"
      },
      "execution_count": null,
      "outputs": []
    }
  ]
}